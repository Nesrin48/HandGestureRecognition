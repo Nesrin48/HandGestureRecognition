{
  "nbformat": 4,
  "nbformat_minor": 0,
  "metadata": {
    "colab": {
      "name": "HandGestureRecognition.ipynb",
      "provenance": [],
      "collapsed_sections": []
    },
    "kernelspec": {
      "name": "python3",
      "display_name": "Python 3"
    },
    "accelerator": "GPU"
  },
  "cells": [
    {
      "cell_type": "markdown",
      "metadata": {
        "id": "V0R9vvlM585n",
        "colab_type": "text"
      },
      "source": [
        "# Hand Gesture Recognition "
      ]
    },
    {
      "cell_type": "markdown",
      "metadata": {
        "id": "RLsSz4s66Bey",
        "colab_type": "text"
      },
      "source": [
        "## Import packages"
      ]
    },
    {
      "cell_type": "code",
      "metadata": {
        "id": "VI4hkoxtGvQ9",
        "colab_type": "code",
        "outputId": "bd8496e8-88a4-47a2-89e8-d553c965141f",
        "colab": {
          "base_uri": "https://localhost:8080/",
          "height": 52
        }
      },
      "source": [
        "# Here we import everything we need for the project\n",
        "# It is always recomended to put them in the first cell\n",
        "from os import listdir\n",
        "from os import path\n",
        "\n",
        "# TensorFlow and tf.keras\n",
        "import tensorflow as tf\n",
        "from tensorflow import keras\n",
        "\n",
        "# Helper libraries\n",
        "import numpy as np\n",
        "import matplotlib.pyplot as plt\n",
        "import cv2\n",
        "import pandas as pd\n",
        "from sklearn.preprocessing import LabelEncoder # for one hot encoding\n",
        "from keras.models import load_model # to load the saved model \n",
        "import json # to load the json file\n",
        "from PIL import Image # Image manipulations\n",
        "%matplotlib inline\n",
        "\n",
        "# To open the drive\n",
        "from google.colab import drive\n",
        "\n",
        "\n",
        "# Import of keras model and hidden layers for our convolutional network\n",
        "from keras.models import Sequential\n",
        "from keras.layers.convolutional import Conv2D, MaxPooling2D\n",
        "from keras.layers import Dense, Flatten\n",
        "\n",
        "# Sklearn\n",
        "from sklearn.model_selection import train_test_split # Helps with organizing data for training\n",
        "from sklearn.metrics import confusion_matrix # Helps present results as a confusion-matrix\n",
        "\n",
        "print(tf.__version__)"
      ],
      "execution_count": 0,
      "outputs": [
        {
          "output_type": "stream",
          "text": [
            "2.2.0\n"
          ],
          "name": "stdout"
        },
        {
          "output_type": "stream",
          "text": [
            "Using TensorFlow backend.\n"
          ],
          "name": "stderr"
        }
      ]
    },
    {
      "cell_type": "markdown",
      "metadata": {
        "id": "ldJHFosP6426",
        "colab_type": "text"
      },
      "source": [
        "## Clone the git model repos "
      ]
    },
    {
      "cell_type": "code",
      "metadata": {
        "id": "errDb9hvbtXl",
        "colab_type": "code",
        "outputId": "9a91a38f-2021-455c-c4e6-bd56febebae1",
        "colab": {
          "base_uri": "https://localhost:8080/",
          "height": 139
        }
      },
      "source": [
        "!git clone https://github.com/Nesrin48/HandGestureRecognition.git"
      ],
      "execution_count": 0,
      "outputs": [
        {
          "output_type": "stream",
          "text": [
            "Cloning into 'HandGestureRecognition'...\n",
            "remote: Enumerating objects: 78, done.\u001b[K\n",
            "remote: Counting objects:   1% (1/78)\u001b[K\rremote: Counting objects:   2% (2/78)\u001b[K\rremote: Counting objects:   3% (3/78)\u001b[K\rremote: Counting objects:   5% (4/78)\u001b[K\rremote: Counting objects:   6% (5/78)\u001b[K\rremote: Counting objects:   7% (6/78)\u001b[K\rremote: Counting objects:   8% (7/78)\u001b[K\rremote: Counting objects:  10% (8/78)\u001b[K\rremote: Counting objects:  11% (9/78)\u001b[K\rremote: Counting objects:  12% (10/78)\u001b[K\rremote: Counting objects:  14% (11/78)\u001b[K\rremote: Counting objects:  15% (12/78)\u001b[K\rremote: Counting objects:  16% (13/78)\u001b[K\rremote: Counting objects:  17% (14/78)\u001b[K\rremote: Counting objects:  19% (15/78)\u001b[K\rremote: Counting objects:  20% (16/78)\u001b[K\rremote: Counting objects:  21% (17/78)\u001b[K\rremote: Counting objects:  23% (18/78)\u001b[K\rremote: Counting objects:  24% (19/78)\u001b[K\rremote: Counting objects:  25% (20/78)\u001b[K\rremote: Counting objects:  26% (21/78)\u001b[K\rremote: Counting objects:  28% (22/78)\u001b[K\rremote: Counting objects:  29% (23/78)\u001b[K\rremote: Counting objects:  30% (24/78)\u001b[K\rremote: Counting objects:  32% (25/78)\u001b[K\rremote: Counting objects:  33% (26/78)\u001b[K\rremote: Counting objects:  34% (27/78)\u001b[K\rremote: Counting objects:  35% (28/78)\u001b[K\rremote: Counting objects:  37% (29/78)\u001b[K\rremote: Counting objects:  38% (30/78)\u001b[K\rremote: Counting objects:  39% (31/78)\u001b[K\rremote: Counting objects:  41% (32/78)\u001b[K\rremote: Counting objects:  42% (33/78)\u001b[K\rremote: Counting objects:  43% (34/78)\u001b[K\rremote: Counting objects:  44% (35/78)\u001b[K\rremote: Counting objects:  46% (36/78)\u001b[K\rremote: Counting objects:  47% (37/78)\u001b[K\rremote: Counting objects:  48% (38/78)\u001b[K\rremote: Counting objects:  50% (39/78)\u001b[K\rremote: Counting objects:  51% (40/78)\u001b[K\rremote: Counting objects:  52% (41/78)\u001b[K\rremote: Counting objects:  53% (42/78)\u001b[K\rremote: Counting objects:  55% (43/78)\u001b[K\rremote: Counting objects:  56% (44/78)\u001b[K\rremote: Counting objects:  57% (45/78)\u001b[K\rremote: Counting objects:  58% (46/78)\u001b[K\rremote: Counting objects:  60% (47/78)\u001b[K\rremote: Counting objects:  61% (48/78)\u001b[K\rremote: Counting objects:  62% (49/78)\u001b[K\rremote: Counting objects:  64% (50/78)\u001b[K\rremote: Counting objects:  65% (51/78)\u001b[K\rremote: Counting objects:  66% (52/78)\u001b[K\rremote: Counting objects:  67% (53/78)\u001b[K\rremote: Counting objects:  69% (54/78)\u001b[K\rremote: Counting objects:  70% (55/78)\u001b[K\rremote: Counting objects:  71% (56/78)\u001b[K\rremote: Counting objects:  73% (57/78)\u001b[K\rremote: Counting objects:  74% (58/78)\u001b[K\rremote: Counting objects:  75% (59/78)\u001b[K\rremote: Counting objects:  76% (60/78)\u001b[K\rremote: Counting objects:  78% (61/78)\u001b[K\rremote: Counting objects:  79% (62/78)\u001b[K\rremote: Counting objects:  80% (63/78)\u001b[K\rremote: Counting objects:  82% (64/78)\u001b[K\rremote: Counting objects:  83% (65/78)\u001b[K\rremote: Counting objects:  84% (66/78)\u001b[K\rremote: Counting objects:  85% (67/78)\u001b[K\rremote: Counting objects:  87% (68/78)\u001b[K\rremote: Counting objects:  88% (69/78)\u001b[K\rremote: Counting objects:  89% (70/78)\u001b[K\rremote: Counting objects:  91% (71/78)\u001b[K\rremote: Counting objects:  92% (72/78)\u001b[K\rremote: Counting objects:  93% (73/78)\u001b[K\rremote: Counting objects:  94% (74/78)\u001b[K\rremote: Counting objects:  96% (75/78)\u001b[K\rremote: Counting objects:  97% (76/78)\u001b[K\rremote: Counting objects:  98% (77/78)\u001b[K\rremote: Counting objects: 100% (78/78)\u001b[K\rremote: Counting objects: 100% (78/78), done.\u001b[K\n",
            "remote: Compressing objects: 100% (46/46), done.\u001b[K\n",
            "remote: Total 2608 (delta 38), reused 72 (delta 32), pack-reused 2530\u001b[K\n",
            "Receiving objects: 100% (2608/2608), 254.21 MiB | 14.79 MiB/s, done.\n",
            "Resolving deltas: 100% (42/42), done.\n"
          ],
          "name": "stdout"
        }
      ]
    },
    {
      "cell_type": "code",
      "metadata": {
        "id": "9e9-2urU2vq8",
        "colab_type": "code",
        "colab": {}
      },
      "source": [
        "# drive.mount('/content/gdrive')"
      ],
      "execution_count": 0,
      "outputs": []
    },
    {
      "cell_type": "code",
      "metadata": {
        "id": "_FDfSKb3ylHO",
        "colab_type": "code",
        "colab": {}
      },
      "source": [
        "# !ls \"/content/gdrive/My Drive/HandGesture\"\n",
        "# to be done first time only to unzip the file\n",
        "# !unzip \"/content/gdrive/My Drive/HandGesture/hand_gesture.zip\" -d \"/content/gdrive/My Drive/HandGesture/hand_gesture\""
      ],
      "execution_count": 0,
      "outputs": []
    },
    {
      "cell_type": "markdown",
      "metadata": {
        "id": "mv3uQn7y7BXM",
        "colab_type": "text"
      },
      "source": [
        "## Global Parameters"
      ]
    },
    {
      "cell_type": "code",
      "metadata": {
        "id": "XyGhVYZ6Z9IX",
        "colab_type": "code",
        "colab": {}
      },
      "source": [
        "## Set all the parameter of the model here \n",
        "# image_dir = '/content/gdrive/My Drive/HandGesture/hand_gesture/hand_gesture/'\n",
        "image_dir = 'HandGestureRecognition/handgesture_dataset/'\n",
        "num_classes = 36"
      ],
      "execution_count": 0,
      "outputs": []
    },
    {
      "cell_type": "markdown",
      "metadata": {
        "id": "ZnvdPRR17GBV",
        "colab_type": "text"
      },
      "source": [
        "## Plot an image"
      ]
    },
    {
      "cell_type": "code",
      "metadata": {
        "id": "AHtAhgvVZ5A7",
        "colab_type": "code",
        "colab": {}
      },
      "source": [
        "# This function is used more for debugging and showing results later. It plots the image into the notebook\n",
        "def imshow(image_path):\n",
        "  # Open the image to show it in the first column of the plot \n",
        "  image = Image.open(image_path)  \n",
        "  # Create the figure \n",
        "  fig = plt.figure(figsize=(50,5))\n",
        "  ax = fig.add_subplot(1, 1, 1) \n",
        "  # Plot the image in the first axe with it's category name\n",
        "  ax.axis('off')\n",
        "  ax.set_title(image_path)\n",
        "  ax.imshow(image) "
      ],
      "execution_count": 0,
      "outputs": []
    },
    {
      "cell_type": "code",
      "metadata": {
        "id": "L51wS4pjGro_",
        "colab_type": "code",
        "outputId": "a1e068bd-a08a-406a-f66f-351d91cabe0e",
        "colab": {
          "base_uri": "https://localhost:8080/",
          "height": 319
        }
      },
      "source": [
        "imshow(image_dir + \"/hand1_2_bot_seg_3_cropped.png\")"
      ],
      "execution_count": 0,
      "outputs": [
        {
          "output_type": "display_data",
          "data": {
            "image/png": "[encoded data removed]",
            "text/plain": [
              "<Figure size 3600x360 with 1 Axes>"
            ]
          },
          "metadata": {
            "tags": [],
            "needs_background": "light"
          }
        }
      ]
    },
    {
      "cell_type": "markdown",
      "metadata": {
        "id": "pph-ko7F7L4V",
        "colab_type": "text"
      },
      "source": [
        "## Get Hand gesture labels"
      ]
    },
    {
      "cell_type": "code",
      "metadata": {
        "id": "YSYHl92qE-pg",
        "colab_type": "code",
        "colab": {}
      },
      "source": [
        "def get_hand_gesture_labels(image_dir):\n",
        "    \"\"\"\n",
        "    Creates a dictionary of image labels (results_dic) based upon the filenames \n",
        "    of the image files. These image image labels are used to check the accuracy \n",
        "    of the labels that are returned by the classifier function, since the \n",
        "    filenames of the images contain the true identity of the image in the image.\n",
        "    Be sure to format the image labels so that they are in all lower case letters\n",
        "    and with leading and trailing whitespace characters stripped from them.\n",
        "    (ex. filename = 'hand1_z_dif_seg_4_cropped.png' image label = 'z')\n",
        "    Parameters:\n",
        "     image_dir - The (full) path to the folder of images that are to be\n",
        "                 classified by the classifier function (string)\n",
        "    Returns:\n",
        "      results_dic - Dictionary with 'key' as image filename and 'value' as a \n",
        "      List. The list contains for following item:\n",
        "         index 0 = image image label (string)\n",
        "    \"\"\"\n",
        "\n",
        "    # Retrieve the filenames from folder hand_gesture_images/\n",
        "    in_files = listdir(image_dir)\n",
        "    # Creates empty dictionary for the results (image labels, etc.)\n",
        "    results_dic = dict()\n",
        "    # Processes through each file in the directory, extracting only the words\n",
        "    # of the file that contain the image image label\n",
        "    for idx in range(0, len(in_files), 1):\n",
        "        # Skips file if starts with . (like .DS_Store of Mac OSX) because it \n",
        "        # isn't an hand gesture image file\n",
        "        if in_files[idx][0] != \".\":\n",
        "            if in_files[idx] not in results_dic:\n",
        "                # Creates temporary label variable to hold pet label name extracted \n",
        "                hand_gesture_label = \"\"         \n",
        "                # Sets hand_gesture_image variable to a filename after removing the file extension => we can escape this step :D.\n",
        "                hand_gesture_image = path.splitext(in_files[idx])[0]\n",
        "                # Sets string to lower case letters\n",
        "                low_hand_gesture_image = hand_gesture_image.lower()\n",
        "                # Split the file name by \"_\" splitter             \n",
        "                word_list_hand_gesture_image = low_hand_gesture_image.split(\"_\")\n",
        "                # get hand gesture element which is in the position 2 in the file name \n",
        "                hand_gesture_name = word_list_hand_gesture_image[1]\n",
        "  \n",
        "                # Strip off starting/trailing whitespace characters \n",
        "                hand_gesture_label = hand_gesture_name.strip()\n",
        "                \n",
        "                # Add hand_gesture_label as value of the file name key\n",
        "                results_dic[in_files[idx]] = hand_gesture_label\n",
        "            else:\n",
        "                print(\"** Warning: Duplicate files exist in directory:\",in_files[idx])\n",
        "                \n",
        "    return results_dic"
      ],
      "execution_count": 0,
      "outputs": []
    },
    {
      "cell_type": "code",
      "metadata": {
        "id": "ac7OKpbBPnyu",
        "colab_type": "code",
        "outputId": "07fd4e75-baba-4587-a3eb-2f36e723f19c",
        "colab": {
          "base_uri": "https://localhost:8080/",
          "height": 1000
        }
      },
      "source": [
        "results_dic = get_hand_gesture_labels(image_dir)\n",
        "results_dic"
      ],
      "execution_count": 0,
      "outputs": [
        {
          "output_type": "execute_result",
          "data": {
            "text/plain": [
              "{'hand5_u_dif_seg_2_cropped.png': 'u',\n",
              " 'hand1_b_dif_seg_5_cropped.png': 'b',\n",
              " 'hand5_j_bot_seg_3_cropped.png': 'j',\n",
              " 'hand2_c_dif_seg_3_cropped.png': 'c',\n",
              " 'hand5_0_bot_seg_1_cropped.png': '0',\n",
              " 'hand5_o_dif_seg_4_cropped.png': 'o',\n",
              " 'hand1_w_right_seg_4_cropped.png': 'w',\n",
              " 'hand4_n_bot_seg_5_cropped.png': 'n',\n",
              " 'hand1_k_bot_seg_4_cropped.png': 'k',\n",
              " 'hand1_5_left_seg_1_cropped.png': '5',\n",
              " 'hand1_y_right_seg_2_cropped.png': 'y',\n",
              " 'hand1_n_dif_seg_3_cropped.png': 'n',\n",
              " 'hand2_1_bot_seg_1_cropped.png': '1',\n",
              " 'hand1_e_bot_seg_5_cropped.png': 'e',\n",
              " 'hand5_x_bot_seg_4_cropped.png': 'x',\n",
              " 'hand5_f_dif_seg_5_cropped.png': 'f',\n",
              " 'hand4_f_bot_seg_3_cropped.png': 'f',\n",
              " 'hand1_3_right_seg_1_cropped.png': '3',\n",
              " 'hand3_s_dif_seg_2_cropped.png': 's',\n",
              " 'hand1_i_left_seg_3_cropped.png': 'i',\n",
              " 'hand2_2_left_seg_1_cropped.png': '2',\n",
              " 'hand1_e_right_seg_4_cropped.png': 'e',\n",
              " 'hand2_w_dif_seg_5_cropped.png': 'w',\n",
              " 'hand1_g_dif_seg_3_cropped.png': 'g',\n",
              " 'hand3_j_dif_seg_2_cropped.png': 'j',\n",
              " 'hand1_8_right_seg_2_cropped.png': '8',\n",
              " 'hand5_k_bot_seg_5_cropped.png': 'k',\n",
              " 'hand2_8_left_seg_4_cropped.png': '8',\n",
              " 'hand5_w_dif_seg_3_cropped.png': 'w',\n",
              " 'hand5_c_dif_seg_2_cropped.png': 'c',\n",
              " 'hand1_l_right_seg_5_cropped.png': 'l',\n",
              " 'hand2_e_left_seg_4_cropped.png': 'e',\n",
              " 'hand5_x_dif_seg_3_cropped.png': 'x',\n",
              " 'hand1_r_top_seg_2_cropped.png': 'r',\n",
              " 'hand5_x_bot_seg_5_cropped.png': 'x',\n",
              " 'hand2_a_bot_seg_5_cropped.png': 'a',\n",
              " 'hand1_k_top_seg_1_cropped.png': 'k',\n",
              " 'hand5_i_bot_seg_1_cropped.png': 'i',\n",
              " 'hand2_l_top_seg_2_cropped.png': 'l',\n",
              " 'hand3_y_dif_seg_2_cropped.png': 'y',\n",
              " 'hand1_c_top_seg_2_cropped.png': 'c',\n",
              " 'hand5_m_bot_seg_3_cropped.png': 'm',\n",
              " 'hand2_o_dif_seg_1_cropped.png': 'o',\n",
              " 'hand1_p_bot_seg_2_cropped.png': 'p',\n",
              " 'hand1_t_bot_seg_3_cropped.png': 't',\n",
              " 'hand1_v_bot_seg_4_cropped.png': 'v',\n",
              " 'hand2_k_right_seg_4_cropped.png': 'k',\n",
              " 'hand2_n_right_seg_5_cropped.png': 'n',\n",
              " 'hand3_u_dif_seg_5_cropped.png': 'u',\n",
              " 'hand1_n_right_seg_3_cropped.png': 'n',\n",
              " 'hand1_l_bot_seg_1_cropped.png': 'l',\n",
              " 'hand4_o_bot_seg_5_cropped.png': 'o',\n",
              " 'hand2_9_left_seg_1_cropped.png': '9',\n",
              " 'hand2_4_left_seg_3_cropped.png': '4',\n",
              " 'hand4_7_bot_seg_1_cropped.png': '7',\n",
              " 'hand1_4_dif_seg_3_cropped.png': '4',\n",
              " 'hand1_c_left_seg_3_cropped.png': 'c',\n",
              " 'hand2_n_bot_seg_1_cropped.png': 'n',\n",
              " 'hand5_4_bot_seg_2_cropped.png': '4',\n",
              " 'hand1_k_dif_seg_1_cropped.png': 'k',\n",
              " 'hand2_f_left_seg_5_cropped.png': 'f',\n",
              " 'hand2_e_right_seg_1_cropped.png': 'e',\n",
              " 'hand3_q_dif_seg_2_cropped.png': 'q',\n",
              " 'hand1_6_right_seg_4_cropped.png': '6',\n",
              " 'hand1_a_left_seg_5_cropped.png': 'a',\n",
              " 'hand2_4_left_seg_5_cropped.png': '4',\n",
              " 'hand2_1_bot_seg_5_cropped.png': '1',\n",
              " 'hand1_7_right_seg_4_cropped.png': '7',\n",
              " 'hand4_x_bot_seg_3_cropped.png': 'x',\n",
              " 'hand1_i_dif_seg_5_cropped.png': 'i',\n",
              " 'hand1_z_top_seg_3_cropped.png': 'z',\n",
              " 'hand1_a_top_seg_5_cropped.png': 'a',\n",
              " 'hand1_7_bot_seg_5_cropped.png': '7',\n",
              " 'hand2_l_bot_seg_1_cropped.png': 'l',\n",
              " 'hand1_u_right_seg_4_cropped.png': 'u',\n",
              " 'hand4_3_bot_seg_5_cropped.png': '3',\n",
              " 'hand1_0_top_seg_3_cropped.png': '0',\n",
              " 'hand2_p_dif_seg_5_cropped.png': 'p',\n",
              " 'hand2_y_dif_seg_3_cropped.png': 'y',\n",
              " 'hand2_6_top_seg_4_cropped.png': '6',\n",
              " 'hand4_m_bot_seg_5_cropped.png': 'm',\n",
              " 'hand2_6_left_seg_3_cropped.png': '6',\n",
              " 'hand1_7_left_seg_4_cropped.png': '7',\n",
              " 'hand1_8_right_seg_3_cropped.png': '8',\n",
              " 'hand2_i_top_seg_5_cropped.png': 'i',\n",
              " 'hand5_8_dif_seg_1_cropped.png': '8',\n",
              " 'hand5_9_dif_seg_3_cropped.png': '9',\n",
              " 'hand2_q_left_seg_3_cropped.png': 'q',\n",
              " 'hand1_c_right_seg_5_cropped.png': 'c',\n",
              " 'hand3_m_dif_seg_2_cropped.png': 'm',\n",
              " 'hand3_j_dif_seg_1_cropped.png': 'j',\n",
              " 'hand5_p_dif_seg_1_cropped.png': 'p',\n",
              " 'hand1_y_bot_seg_2_cropped.png': 'y',\n",
              " 'hand4_8_bot_seg_4_cropped.png': '8',\n",
              " 'hand1_z_dif_seg_1_cropped.png': 'z',\n",
              " 'hand1_j_bot_seg_5_cropped.png': 'j',\n",
              " 'hand2_e_right_seg_5_cropped.png': 'e',\n",
              " 'hand3_q_dif_seg_1_cropped.png': 'q',\n",
              " 'hand1_h_top_seg_1_cropped.png': 'h',\n",
              " 'hand3_i_dif_seg_5_cropped.png': 'i',\n",
              " 'hand3_6_dif_seg_1_cropped.png': '6',\n",
              " 'hand1_s_dif_seg_1_cropped.png': 's',\n",
              " 'hand2_a_top_seg_4_cropped.png': 'a',\n",
              " 'hand2_7_dif_seg_5_cropped.png': '7',\n",
              " 'hand2_m_top_seg_2_cropped.png': 'm',\n",
              " 'hand2_o_left_seg_3_cropped.png': 'o',\n",
              " 'hand1_5_top_seg_3_cropped.png': '5',\n",
              " 'hand4_w_bot_seg_3_cropped.png': 'w',\n",
              " 'hand5_n_dif_seg_3_cropped.png': 'n',\n",
              " 'hand2_g_right_seg_3_cropped.png': 'g',\n",
              " 'hand1_n_bot_seg_2_cropped.png': 'n',\n",
              " 'hand5_8_dif_seg_3_cropped.png': '8',\n",
              " 'hand2_l_bot_seg_4_cropped.png': 'l',\n",
              " 'hand5_2_bot_seg_4_cropped.png': '2',\n",
              " 'hand2_q_right_seg_5_cropped.png': 'q',\n",
              " 'hand2_j_bot_seg_1_cropped.png': 'j',\n",
              " 'hand4_e_bot_seg_1_cropped.png': 'e',\n",
              " 'hand4_n_bot_seg_2_cropped.png': 'n',\n",
              " 'hand1_2_left_seg_1_cropped.png': '2',\n",
              " 'hand5_r_dif_seg_1_cropped.png': 'r',\n",
              " 'hand2_l_right_seg_5_cropped.png': 'l',\n",
              " 'hand5_2_bot_seg_5_cropped.png': '2',\n",
              " 'hand1_4_bot_seg_5_cropped.png': '4',\n",
              " 'hand5_6_bot_seg_4_cropped.png': '6',\n",
              " 'hand2_2_left_seg_3_cropped.png': '2',\n",
              " 'hand5_u_dif_seg_4_cropped.png': 'u',\n",
              " 'hand2_u_dif_seg_4_cropped.png': 'u',\n",
              " 'hand1_a_left_seg_3_cropped.png': 'a',\n",
              " 'hand1_8_dif_seg_1_cropped.png': '8',\n",
              " 'hand2_x_top_seg_5_cropped.png': 'x',\n",
              " 'hand1_8_right_seg_1_cropped.png': '8',\n",
              " 'hand2_p_bot_seg_1_cropped.png': 'p',\n",
              " 'hand4_5_bot_seg_3_cropped.png': '5',\n",
              " 'hand3_l_dif_seg_5_cropped.png': 'l',\n",
              " 'hand2_h_bot_seg_1_cropped.png': 'h',\n",
              " 'hand1_m_dif_seg_2_cropped.png': 'm',\n",
              " 'hand1_b_top_seg_3_cropped.png': 'b',\n",
              " 'hand2_b_bot_seg_5_cropped.png': 'b',\n",
              " 'hand1_3_right_seg_2_cropped.png': '3',\n",
              " 'hand2_0_right_seg_1_cropped.png': '0',\n",
              " 'hand1_w_left_seg_4_cropped.png': 'w',\n",
              " 'hand3_d_dif_seg_5_cropped.png': 'd',\n",
              " 'hand2_b_right_seg_4_cropped.png': 'b',\n",
              " 'hand4_v_bot_seg_5_cropped.png': 'v',\n",
              " 'hand1_s_bot_seg_3_cropped.png': 's',\n",
              " 'hand1_j_dif_seg_4_cropped.png': 'j',\n",
              " 'hand5_6_dif_seg_2_cropped.png': '6',\n",
              " 'hand2_h_dif_seg_1_cropped.png': 'h',\n",
              " 'hand1_0_left_seg_5_cropped.png': '0',\n",
              " 'hand2_c_left_seg_1_cropped.png': 'c',\n",
              " 'hand2_v_left_seg_5_cropped.png': 'v',\n",
              " 'hand1_s_bot_seg_1_cropped.png': 's',\n",
              " 'hand1_p_dif_seg_3_cropped.png': 'p',\n",
              " 'hand2_u_dif_seg_3_cropped.png': 'u',\n",
              " 'hand1_d_left_seg_5_cropped.png': 'd',\n",
              " 'hand2_7_top_seg_2_cropped.png': '7',\n",
              " 'hand2_w_bot_seg_2_cropped.png': 'w',\n",
              " 'hand3_8_dif_seg_5_cropped.png': '8',\n",
              " 'hand2_w_right_seg_4_cropped.png': 'w',\n",
              " 'hand1_l_top_seg_2_cropped.png': 'l',\n",
              " 'hand1_8_dif_seg_3_cropped.png': '8',\n",
              " 'hand1_h_dif_seg_2_cropped.png': 'h',\n",
              " 'hand1_8_left_seg_1_cropped.png': '8',\n",
              " 'hand2_u_left_seg_2_cropped.png': 'u',\n",
              " 'hand1_e_top_seg_2_cropped.png': 'e',\n",
              " 'hand2_z_bot_seg_2_cropped.png': 'z',\n",
              " 'hand5_l_bot_seg_4_cropped.png': 'l',\n",
              " 'hand3_c_dif_seg_2_cropped.png': 'c',\n",
              " 'hand1_x_right_seg_2_cropped.png': 'x',\n",
              " 'hand2_q_top_seg_4_cropped.png': 'q',\n",
              " 'hand3_r_dif_seg_5_cropped.png': 'r',\n",
              " 'hand1_p_dif_seg_5_cropped.png': 'p',\n",
              " 'hand1_t_right_seg_4_cropped.png': 't',\n",
              " 'hand4_i_bot_seg_3_cropped.png': 'i',\n",
              " 'hand5_3_bot_seg_1_cropped.png': '3',\n",
              " 'hand1_y_dif_seg_2_cropped.png': 'y',\n",
              " 'hand2_r_left_seg_4_cropped.png': 'r',\n",
              " 'hand1_w_right_seg_1_cropped.png': 'w',\n",
              " 'hand2_w_top_seg_2_cropped.png': 'w',\n",
              " 'hand4_k_bot_seg_4_cropped.png': 'k',\n",
              " 'hand1_u_bot_seg_3_cropped.png': 'u',\n",
              " 'hand2_d_left_seg_3_cropped.png': 'd',\n",
              " 'hand4_8_bot_seg_5_cropped.png': '8',\n",
              " 'hand1_l_bot_seg_5_cropped.png': 'l',\n",
              " 'hand1_p_right_seg_5_cropped.png': 'p',\n",
              " 'hand5_q_bot_seg_5_cropped.png': 'q',\n",
              " 'hand4_6_bot_seg_3_cropped.png': '6',\n",
              " 'hand5_r_bot_seg_3_cropped.png': 'r',\n",
              " 'hand1_g_bot_seg_5_cropped.png': 'g',\n",
              " 'hand4_9_bot_seg_3_cropped.png': '9',\n",
              " 'hand2_a_bot_seg_1_cropped.png': 'a',\n",
              " 'hand2_g_right_seg_2_cropped.png': 'g',\n",
              " 'hand2_n_left_seg_1_cropped.png': 'n',\n",
              " 'hand2_1_right_seg_3_cropped.png': '1',\n",
              " 'hand1_7_right_seg_2_cropped.png': '7',\n",
              " 'hand2_x_bot_seg_5_cropped.png': 'x',\n",
              " 'hand2_9_dif_seg_1_cropped.png': '9',\n",
              " 'hand1_j_left_seg_3_cropped.png': 'j',\n",
              " 'hand2_i_bot_seg_1_cropped.png': 'i',\n",
              " 'hand1_p_bot_seg_3_cropped.png': 'p',\n",
              " 'hand2_2_right_seg_5_cropped.png': '2',\n",
              " 'hand2_p_bot_seg_2_cropped.png': 'p',\n",
              " 'hand1_f_dif_seg_1_cropped.png': 'f',\n",
              " 'hand2_g_top_seg_2_cropped.png': 'g',\n",
              " 'hand5_d_bot_seg_3_cropped.png': 'd',\n",
              " 'hand5_v_dif_seg_1_cropped.png': 'v',\n",
              " 'hand2_q_left_seg_4_cropped.png': 'q',\n",
              " 'hand4_n_bot_seg_3_cropped.png': 'n',\n",
              " 'hand2_x_bot_seg_4_cropped.png': 'x',\n",
              " 'hand1_g_bot_seg_1_cropped.png': 'g',\n",
              " 'hand1_q_left_seg_3_cropped.png': 'q',\n",
              " 'hand1_y_left_seg_2_cropped.png': 'y',\n",
              " 'hand2_l_left_seg_1_cropped.png': 'l',\n",
              " 'hand1_o_dif_seg_1_cropped.png': 'o',\n",
              " 'hand2_a_left_seg_5_cropped.png': 'a',\n",
              " 'hand5_1_dif_seg_1_cropped.png': '1',\n",
              " 'hand2_p_left_seg_3_cropped.png': 'p',\n",
              " 'hand5_w_bot_seg_2_cropped.png': 'w',\n",
              " 'hand2_0_top_seg_3_cropped.png': '0',\n",
              " 'hand2_h_top_seg_1_cropped.png': 'h',\n",
              " 'hand5_y_bot_seg_4_cropped.png': 'y',\n",
              " 'hand4_t_bot_seg_4_cropped.png': 't',\n",
              " 'hand1_o_right_seg_2_cropped.png': 'o',\n",
              " 'hand5_g_bot_seg_2_cropped.png': 'g',\n",
              " 'hand5_w_bot_seg_3_cropped.png': 'w',\n",
              " 'hand1_a_right_seg_2_cropped.png': 'a',\n",
              " 'hand2_c_top_seg_3_cropped.png': 'c',\n",
              " 'hand5_r_bot_seg_5_cropped.png': 'r',\n",
              " 'hand1_3_bot_seg_3_cropped.png': '3',\n",
              " 'hand2_k_bot_seg_3_cropped.png': 'k',\n",
              " 'hand5_8_dif_seg_5_cropped.png': '8',\n",
              " 'hand1_m_left_seg_3_cropped.png': 'm',\n",
              " 'hand1_o_top_seg_2_cropped.png': 'o',\n",
              " 'hand5_a_bot_seg_1_cropped.png': 'a',\n",
              " 'hand2_k_dif_seg_2_cropped.png': 'k',\n",
              " 'hand5_a_bot_seg_2_cropped.png': 'a',\n",
              " 'hand2_p_bot_seg_3_cropped.png': 'p',\n",
              " 'hand2_y_bot_seg_3_cropped.png': 'y',\n",
              " 'hand1_f_left_seg_3_cropped.png': 'f',\n",
              " 'hand2_5_left_seg_1_cropped.png': '5',\n",
              " 'hand1_v_dif_seg_1_cropped.png': 'v',\n",
              " 'hand2_9_right_seg_2_cropped.png': '9',\n",
              " 'hand2_p_right_seg_3_cropped.png': 'p',\n",
              " 'hand1_2_right_seg_5_cropped.png': '2',\n",
              " 'hand2_j_left_seg_2_cropped.png': 'j',\n",
              " 'hand2_1_right_seg_2_cropped.png': '1',\n",
              " 'hand1_6_top_seg_5_cropped.png': '6',\n",
              " 'hand3_o_dif_seg_2_cropped.png': 'o',\n",
              " 'hand4_9_bot_seg_1_cropped.png': '9',\n",
              " 'hand1_7_left_seg_2_cropped.png': '7',\n",
              " 'hand4_y_bot_seg_4_cropped.png': 'y',\n",
              " 'hand5_c_dif_seg_1_cropped.png': 'c',\n",
              " 'hand5_e_bot_seg_2_cropped.png': 'e',\n",
              " 'hand1_8_dif_seg_2_cropped.png': '8',\n",
              " 'hand5_e_dif_seg_2_cropped.png': 'e',\n",
              " 'hand1_w_top_seg_1_cropped.png': 'w',\n",
              " 'hand1_9_top_seg_2_cropped.png': '9',\n",
              " 'hand1_5_dif_seg_3_cropped.png': '5',\n",
              " 'hand1_v_bot_seg_5_cropped.png': 'v',\n",
              " 'hand2_n_top_seg_5_cropped.png': 'n',\n",
              " 'hand4_3_bot_seg_4_cropped.png': '3',\n",
              " 'hand2_b_bot_seg_4_cropped.png': 'b',\n",
              " 'hand1_h_bot_seg_2_cropped.png': 'h',\n",
              " 'hand4_e_bot_seg_4_cropped.png': 'e',\n",
              " 'hand2_e_right_seg_2_cropped.png': 'e',\n",
              " 'hand2_u_top_seg_4_cropped.png': 'u',\n",
              " 'hand2_o_top_seg_3_cropped.png': 'o',\n",
              " 'hand2_u_top_seg_2_cropped.png': 'u',\n",
              " 'hand1_d_right_seg_5_cropped.png': 'd',\n",
              " 'hand1_p_dif_seg_1_cropped.png': 'p',\n",
              " 'hand3_u_dif_seg_3_cropped.png': 'u',\n",
              " 'hand1_f_right_seg_2_cropped.png': 'f',\n",
              " 'hand1_b_bot_seg_2_cropped.png': 'b',\n",
              " 'hand2_3_top_seg_4_cropped.png': '3',\n",
              " 'hand2_4_top_seg_2_cropped.png': '4',\n",
              " 'hand4_u_bot_seg_4_cropped.png': 'u',\n",
              " 'hand1_9_left_seg_4_cropped.png': '9',\n",
              " 'hand2_b_dif_seg_1_cropped.png': 'b',\n",
              " 'hand1_0_dif_seg_4_cropped.png': '0',\n",
              " 'hand2_m_left_seg_2_cropped.png': 'm',\n",
              " 'hand2_u_left_seg_5_cropped.png': 'u',\n",
              " 'hand1_f_left_seg_5_cropped.png': 'f',\n",
              " 'hand2_f_bot_seg_4_cropped.png': 'f',\n",
              " 'hand5_a_bot_seg_3_cropped.png': 'a',\n",
              " 'hand2_y_bot_seg_2_cropped.png': 'y',\n",
              " 'hand2_q_dif_seg_4_cropped.png': 'q',\n",
              " 'hand2_b_right_seg_1_cropped.png': 'b',\n",
              " 'hand2_v_bot_seg_3_cropped.png': 'v',\n",
              " 'hand2_m_bot_seg_3_cropped.png': 'm',\n",
              " 'hand1_a_dif_seg_3_cropped.png': 'a',\n",
              " 'hand2_b_right_seg_3_cropped.png': 'b',\n",
              " 'hand1_6_dif_seg_5_cropped.png': '6',\n",
              " 'hand1_m_top_seg_2_cropped.png': 'm',\n",
              " 'hand4_h_bot_seg_4_cropped.png': 'h',\n",
              " 'hand1_q_right_seg_3_cropped.png': 'q',\n",
              " 'hand5_n_dif_seg_5_cropped.png': 'n',\n",
              " 'hand2_0_bot_seg_2_cropped.png': '0',\n",
              " 'hand3_v_dif_seg_2_cropped.png': 'v',\n",
              " 'hand2_g_top_seg_1_cropped.png': 'g',\n",
              " 'hand5_4_dif_seg_3_cropped.png': '4',\n",
              " 'hand3_6_dif_seg_2_cropped.png': '6',\n",
              " 'hand2_0_left_seg_2_cropped.png': '0',\n",
              " 'hand5_w_dif_seg_5_cropped.png': 'w',\n",
              " 'hand1_s_top_seg_4_cropped.png': 's',\n",
              " 'hand2_6_right_seg_5_cropped.png': '6',\n",
              " 'hand2_q_bot_seg_2_cropped.png': 'q',\n",
              " 'hand3_s_dif_seg_5_cropped.png': 's',\n",
              " 'hand1_f_top_seg_3_cropped.png': 'f',\n",
              " 'hand4_0_bot_seg_4_cropped.png': '0',\n",
              " 'hand1_1_dif_seg_1_cropped.png': '1',\n",
              " 'hand2_0_bot_seg_5_cropped.png': '0',\n",
              " 'hand2_w_dif_seg_2_cropped.png': 'w',\n",
              " 'hand2_5_right_seg_1_cropped.png': '5',\n",
              " 'hand1_x_dif_seg_3_cropped.png': 'x',\n",
              " 'hand5_s_dif_seg_1_cropped.png': 's',\n",
              " 'hand4_h_bot_seg_1_cropped.png': 'h',\n",
              " 'hand2_x_dif_seg_4_cropped.png': 'x',\n",
              " 'hand2_k_right_seg_5_cropped.png': 'k',\n",
              " 'hand2_0_left_seg_3_cropped.png': '0',\n",
              " 'hand3_u_dif_seg_2_cropped.png': 'u',\n",
              " 'hand4_i_bot_seg_1_cropped.png': 'i',\n",
              " 'hand2_6_bot_seg_5_cropped.png': '6',\n",
              " 'hand1_v_bot_seg_1_cropped.png': 'v',\n",
              " 'hand2_l_left_seg_4_cropped.png': 'l',\n",
              " 'hand5_a_dif_seg_3_cropped.png': 'a',\n",
              " 'hand1_o_left_seg_2_cropped.png': 'o',\n",
              " 'hand1_p_dif_seg_2_cropped.png': 'p',\n",
              " 'hand2_3_dif_seg_3_cropped.png': '3',\n",
              " 'hand4_h_bot_seg_3_cropped.png': 'h',\n",
              " 'hand1_1_top_seg_5_cropped.png': '1',\n",
              " 'hand1_q_dif_seg_2_cropped.png': 'q',\n",
              " 'hand1_t_right_seg_3_cropped.png': 't',\n",
              " 'hand2_f_top_seg_3_cropped.png': 'f',\n",
              " 'hand1_7_dif_seg_5_cropped.png': '7',\n",
              " 'hand5_o_bot_seg_4_cropped.png': 'o',\n",
              " 'hand2_5_right_seg_4_cropped.png': '5',\n",
              " 'hand2_k_bot_seg_4_cropped.png': 'k',\n",
              " 'hand4_c_bot_seg_3_cropped.png': 'c',\n",
              " 'hand5_y_dif_seg_3_cropped.png': 'y',\n",
              " 'hand2_5_bot_seg_5_cropped.png': '5',\n",
              " 'hand2_3_right_seg_1_cropped.png': '3',\n",
              " 'hand2_8_bot_seg_2_cropped.png': '8',\n",
              " 'hand2_x_left_seg_3_cropped.png': 'x',\n",
              " 'hand1_g_bot_seg_4_cropped.png': 'g',\n",
              " 'hand5_t_bot_seg_2_cropped.png': 't',\n",
              " 'hand2_5_left_seg_4_cropped.png': '5',\n",
              " 'hand2_u_dif_seg_5_cropped.png': 'u',\n",
              " 'hand2_r_left_seg_5_cropped.png': 'r',\n",
              " 'hand1_y_right_seg_3_cropped.png': 'y',\n",
              " 'hand2_e_right_seg_4_cropped.png': 'e',\n",
              " 'hand1_0_top_seg_1_cropped.png': '0',\n",
              " 'hand3_w_dif_seg_3_cropped.png': 'w',\n",
              " 'hand5_f_dif_seg_4_cropped.png': 'f',\n",
              " 'hand2_e_dif_seg_1_cropped.png': 'e',\n",
              " 'hand1_n_top_seg_4_cropped.png': 'n',\n",
              " 'hand3_g_dif_seg_5_cropped.png': 'g',\n",
              " 'hand2_7_right_seg_3_cropped.png': '7',\n",
              " 'hand1_7_left_seg_5_cropped.png': '7',\n",
              " 'hand2_o_bot_seg_5_cropped.png': 'o',\n",
              " 'hand5_2_bot_seg_3_cropped.png': '2',\n",
              " 'hand1_8_bot_seg_3_cropped.png': '8',\n",
              " 'hand1_l_right_seg_2_cropped.png': 'l',\n",
              " 'hand2_0_bot_seg_3_cropped.png': '0',\n",
              " 'hand1_5_left_seg_2_cropped.png': '5',\n",
              " 'hand3_q_dif_seg_3_cropped.png': 'q',\n",
              " 'hand3_9_dif_seg_4_cropped.png': '9',\n",
              " 'hand2_k_dif_seg_4_cropped.png': 'k',\n",
              " 'hand2_s_left_seg_3_cropped.png': 's',\n",
              " 'hand1_c_bot_seg_1_cropped.png': 'c',\n",
              " 'hand2_w_bot_seg_5_cropped.png': 'w',\n",
              " 'hand2_u_right_seg_1_cropped.png': 'u',\n",
              " 'hand2_l_top_seg_4_cropped.png': 'l',\n",
              " 'hand1_x_bot_seg_4_cropped.png': 'x',\n",
              " 'hand2_1_left_seg_5_cropped.png': '1',\n",
              " 'hand3_g_dif_seg_1_cropped.png': 'g',\n",
              " 'hand1_s_top_seg_3_cropped.png': 's',\n",
              " 'hand2_y_dif_seg_1_cropped.png': 'y',\n",
              " 'hand1_3_bot_seg_2_cropped.png': '3',\n",
              " 'hand3_7_dif_seg_2_cropped.png': '7',\n",
              " 'hand1_9_top_seg_5_cropped.png': '9',\n",
              " 'hand5_r_bot_seg_4_cropped.png': 'r',\n",
              " 'hand4_a_bot_seg_3_cropped.png': 'a',\n",
              " 'hand5_o_bot_seg_1_cropped.png': 'o',\n",
              " 'hand4_3_bot_seg_2_cropped.png': '3',\n",
              " 'hand1_w_left_seg_1_cropped.png': 'w',\n",
              " 'hand2_u_dif_seg_1_cropped.png': 'u',\n",
              " 'hand2_i_top_seg_1_cropped.png': 'i',\n",
              " 'hand3_r_dif_seg_1_cropped.png': 'r',\n",
              " 'hand2_m_right_seg_5_cropped.png': 'm',\n",
              " 'hand2_k_dif_seg_5_cropped.png': 'k',\n",
              " 'hand3_z_dif_seg_2_cropped.png': 'z',\n",
              " 'hand2_p_bot_seg_5_cropped.png': 'p',\n",
              " 'hand2_k_left_seg_2_cropped.png': 'k',\n",
              " 'hand1_v_dif_seg_5_cropped.png': 'v',\n",
              " 'hand2_m_top_seg_3_cropped.png': 'm',\n",
              " 'hand5_z_bot_seg_3_cropped.png': 'z',\n",
              " 'hand1_p_top_seg_2_cropped.png': 'p',\n",
              " 'hand1_w_bot_seg_4_cropped.png': 'w',\n",
              " 'hand5_s_bot_seg_1_cropped.png': 's',\n",
              " 'hand3_x_dif_seg_2_cropped.png': 'x',\n",
              " 'hand2_z_bot_seg_1_cropped.png': 'z',\n",
              " 'hand1_v_left_seg_5_cropped.png': 'v',\n",
              " 'hand1_2_right_seg_1_cropped.png': '2',\n",
              " 'hand3_3_dif_seg_3_cropped.png': '3',\n",
              " 'hand1_6_dif_seg_1_cropped.png': '6',\n",
              " 'hand2_5_dif_seg_2_cropped.png': '5',\n",
              " 'hand2_i_left_seg_2_cropped.png': 'i',\n",
              " 'hand5_z_dif_seg_4_cropped.png': 'z',\n",
              " 'hand4_7_bot_seg_2_cropped.png': '7',\n",
              " 'hand1_3_right_seg_5_cropped.png': '3',\n",
              " 'hand2_w_bot_seg_3_cropped.png': 'w',\n",
              " 'hand2_a_right_seg_3_cropped.png': 'a',\n",
              " 'hand5_x_bot_seg_2_cropped.png': 'x',\n",
              " 'hand2_k_top_seg_4_cropped.png': 'k',\n",
              " 'hand2_4_left_seg_1_cropped.png': '4',\n",
              " 'hand2_d_right_seg_4_cropped.png': 'd',\n",
              " 'hand1_h_left_seg_1_cropped.png': 'h',\n",
              " 'hand3_p_dif_seg_1_cropped.png': 'p',\n",
              " 'hand4_s_bot_seg_1_cropped.png': 's',\n",
              " 'hand5_9_dif_seg_2_cropped.png': '9',\n",
              " 'hand5_7_bot_seg_4_cropped.png': '7',\n",
              " 'hand1_x_dif_seg_2_cropped.png': 'x',\n",
              " 'hand1_z_top_seg_5_cropped.png': 'z',\n",
              " 'hand4_l_bot_seg_2_cropped.png': 'l',\n",
              " 'hand1_z_top_seg_1_cropped.png': 'z',\n",
              " 'hand5_0_bot_seg_2_cropped.png': '0',\n",
              " 'hand5_d_bot_seg_4_cropped.png': 'd',\n",
              " 'hand2_s_top_seg_5_cropped.png': 's',\n",
              " 'hand4_3_bot_seg_3_cropped.png': '3',\n",
              " 'hand2_a_bot_seg_2_cropped.png': 'a',\n",
              " 'hand1_t_right_seg_5_cropped.png': 't',\n",
              " 'hand5_j_dif_seg_5_cropped.png': 'j',\n",
              " 'hand5_5_bot_seg_5_cropped.png': '5',\n",
              " 'hand1_t_left_seg_3_cropped.png': 't',\n",
              " 'hand2_g_bot_seg_3_cropped.png': 'g',\n",
              " 'hand4_b_bot_seg_2_cropped.png': 'b',\n",
              " 'hand2_n_top_seg_1_cropped.png': 'n',\n",
              " 'hand1_4_left_seg_4_cropped.png': '4',\n",
              " 'hand1_s_left_seg_4_cropped.png': 's',\n",
              " 'hand5_4_bot_seg_4_cropped.png': '4',\n",
              " 'hand2_1_right_seg_1_cropped.png': '1',\n",
              " 'hand1_x_right_seg_3_cropped.png': 'x',\n",
              " 'hand1_g_top_seg_3_cropped.png': 'g',\n",
              " 'hand1_x_left_seg_3_cropped.png': 'x',\n",
              " 'hand2_i_dif_seg_1_cropped.png': 'i',\n",
              " 'hand2_g_bot_seg_1_cropped.png': 'g',\n",
              " 'hand2_v_dif_seg_3_cropped.png': 'v',\n",
              " 'hand2_j_dif_seg_5_cropped.png': 'j',\n",
              " 'hand5_o_dif_seg_1_cropped.png': 'o',\n",
              " 'hand2_1_left_seg_4_cropped.png': '1',\n",
              " 'hand5_k_bot_seg_3_cropped.png': 'k',\n",
              " 'hand4_2_bot_seg_1_cropped.png': '2',\n",
              " 'hand3_h_dif_seg_2_cropped.png': 'h',\n",
              " 'hand1_o_left_seg_4_cropped.png': 'o',\n",
              " 'hand1_0_top_seg_5_cropped.png': '0',\n",
              " 'hand3_a_dif_seg_3_cropped.png': 'a',\n",
              " 'hand3_b_dif_seg_2_cropped.png': 'b',\n",
              " 'hand2_m_left_seg_5_cropped.png': 'm',\n",
              " 'hand5_8_dif_seg_2_cropped.png': '8',\n",
              " 'hand1_6_bot_seg_3_cropped.png': '6',\n",
              " 'hand1_x_right_seg_4_cropped.png': 'x',\n",
              " 'hand2_0_dif_seg_5_cropped.png': '0',\n",
              " 'hand5_7_bot_seg_2_cropped.png': '7',\n",
              " 'hand1_0_dif_seg_2_cropped.png': '0',\n",
              " 'hand2_o_top_seg_5_cropped.png': 'o',\n",
              " 'hand1_k_right_seg_4_cropped.png': 'k',\n",
              " 'hand5_y_bot_seg_5_cropped.png': 'y',\n",
              " 'hand3_d_dif_seg_4_cropped.png': 'd',\n",
              " 'hand3_3_dif_seg_5_cropped.png': '3',\n",
              " 'hand2_8_right_seg_1_cropped.png': '8',\n",
              " 'hand2_m_right_seg_3_cropped.png': 'm',\n",
              " 'hand2_5_top_seg_1_cropped.png': '5',\n",
              " 'hand2_m_dif_seg_2_cropped.png': 'm',\n",
              " 'hand2_3_top_seg_2_cropped.png': '3',\n",
              " 'hand2_h_dif_seg_2_cropped.png': 'h',\n",
              " 'hand2_0_dif_seg_2_cropped.png': '0',\n",
              " 'hand1_5_right_seg_5_cropped.png': '5',\n",
              " 'hand2_1_bot_seg_4_cropped.png': '1',\n",
              " 'hand4_o_bot_seg_1_cropped.png': 'o',\n",
              " 'hand1_0_left_seg_2_cropped.png': '0',\n",
              " 'hand5_l_dif_seg_5_cropped.png': 'l',\n",
              " 'hand5_j_bot_seg_1_cropped.png': 'j',\n",
              " 'hand1_k_top_seg_3_cropped.png': 'k',\n",
              " 'hand5_l_bot_seg_2_cropped.png': 'l',\n",
              " 'hand2_5_bot_seg_2_cropped.png': '5',\n",
              " 'hand1_s_right_seg_3_cropped.png': 's',\n",
              " 'hand1_r_right_seg_1_cropped.png': 'r',\n",
              " 'hand3_v_dif_seg_5_cropped.png': 'v',\n",
              " 'hand5_s_bot_seg_3_cropped.png': 's',\n",
              " 'hand1_b_top_seg_5_cropped.png': 'b',\n",
              " 'hand1_6_dif_seg_2_cropped.png': '6',\n",
              " 'hand1_g_bot_seg_3_cropped.png': 'g',\n",
              " 'hand1_c_right_seg_3_cropped.png': 'c',\n",
              " 'hand2_9_bot_seg_3_cropped.png': '9',\n",
              " 'hand1_3_left_seg_1_cropped.png': '3',\n",
              " 'hand1_f_dif_seg_4_cropped.png': 'f',\n",
              " 'hand1_v_right_seg_1_cropped.png': 'v',\n",
              " 'hand1_v_dif_seg_4_cropped.png': 'v',\n",
              " 'hand5_t_bot_seg_5_cropped.png': 't',\n",
              " 'hand3_p_dif_seg_4_cropped.png': 'p',\n",
              " 'hand5_d_bot_seg_1_cropped.png': 'd',\n",
              " 'hand2_v_bot_seg_5_cropped.png': 'v',\n",
              " 'hand1_y_left_seg_5_cropped.png': 'y',\n",
              " 'hand5_c_bot_seg_5_cropped.png': 'c',\n",
              " 'hand1_s_left_seg_5_cropped.png': 's',\n",
              " 'hand1_d_dif_seg_2_cropped.png': 'd',\n",
              " 'hand2_d_right_seg_5_cropped.png': 'd',\n",
              " 'hand1_c_bot_seg_4_cropped.png': 'c',\n",
              " 'hand2_z_top_seg_3_cropped.png': 'z',\n",
              " 'hand2_i_right_seg_4_cropped.png': 'i',\n",
              " 'hand2_m_dif_seg_4_cropped.png': 'm',\n",
              " 'hand1_q_right_seg_1_cropped.png': 'q',\n",
              " 'hand4_1_bot_seg_3_cropped.png': '1',\n",
              " 'hand2_8_top_seg_2_cropped.png': '8',\n",
              " 'hand1_f_dif_seg_3_cropped.png': 'f',\n",
              " 'hand1_6_left_seg_4_cropped.png': '6',\n",
              " 'hand2_z_right_seg_3_cropped.png': 'z',\n",
              " 'hand4_d_bot_seg_2_cropped.png': 'd',\n",
              " 'hand5_y_bot_seg_1_cropped.png': 'y',\n",
              " 'hand2_r_bot_seg_3_cropped.png': 'r',\n",
              " 'hand2_f_bot_seg_1_cropped.png': 'f',\n",
              " 'hand1_o_left_seg_1_cropped.png': 'o',\n",
              " 'hand4_6_bot_seg_4_cropped.png': '6',\n",
              " 'hand1_n_top_seg_1_cropped.png': 'n',\n",
              " 'hand1_r_right_seg_4_cropped.png': 'r',\n",
              " 'hand1_d_right_seg_2_cropped.png': 'd',\n",
              " 'hand1_b_right_seg_5_cropped.png': 'b',\n",
              " 'hand2_6_left_seg_1_cropped.png': '6',\n",
              " 'hand2_y_bot_seg_5_cropped.png': 'y',\n",
              " 'hand1_h_left_seg_4_cropped.png': 'h',\n",
              " 'hand4_d_bot_seg_4_cropped.png': 'd',\n",
              " 'hand2_1_top_seg_2_cropped.png': '1',\n",
              " 'hand1_0_left_seg_1_cropped.png': '0',\n",
              " 'hand5_3_bot_seg_4_cropped.png': '3',\n",
              " 'hand2_w_right_seg_1_cropped.png': 'w',\n",
              " 'hand5_m_bot_seg_1_cropped.png': 'm',\n",
              " 'hand1_t_dif_seg_2_cropped.png': 't',\n",
              " 'hand2_3_right_seg_4_cropped.png': '3',\n",
              " 'hand1_p_right_seg_1_cropped.png': 'p',\n",
              " 'hand2_l_dif_seg_1_cropped.png': 'l',\n",
              " 'hand1_0_bot_seg_1_cropped.png': '0',\n",
              " 'hand1_x_left_seg_4_cropped.png': 'x',\n",
              " 'hand2_6_left_seg_5_cropped.png': '6',\n",
              " 'hand5_7_dif_seg_2_cropped.png': '7',\n",
              " 'hand4_f_bot_seg_1_cropped.png': 'f',\n",
              " 'hand2_h_top_seg_4_cropped.png': 'h',\n",
              " 'hand4_x_bot_seg_1_cropped.png': 'x',\n",
              " 'hand5_q_bot_seg_4_cropped.png': 'q',\n",
              " 'hand5_5_dif_seg_5_cropped.png': '5',\n",
              " 'hand1_x_dif_seg_5_cropped.png': 'x',\n",
              " 'hand2_l_bot_seg_3_cropped.png': 'l',\n",
              " 'hand5_c_bot_seg_2_cropped.png': 'c',\n",
              " 'hand2_z_left_seg_3_cropped.png': 'z',\n",
              " 'hand2_z_dif_seg_2_cropped.png': 'z',\n",
              " 'hand2_z_right_seg_1_cropped.png': 'z',\n",
              " 'hand1_t_top_seg_2_cropped.png': 't',\n",
              " 'hand1_0_dif_seg_1_cropped.png': '0',\n",
              " 'hand2_u_bot_seg_5_cropped.png': 'u',\n",
              " 'hand1_9_left_seg_1_cropped.png': '9',\n",
              " 'hand2_d_top_seg_5_cropped.png': 'd',\n",
              " 'hand2_b_dif_seg_5_cropped.png': 'b',\n",
              " 'hand2_z_left_seg_4_cropped.png': 'z',\n",
              " 'hand5_9_bot_seg_3_cropped.png': '9',\n",
              " 'hand2_s_bot_seg_4_cropped.png': 's',\n",
              " 'hand3_k_dif_seg_1_cropped.png': 'k',\n",
              " 'hand4_l_bot_seg_5_cropped.png': 'l',\n",
              " 'hand2_t_top_seg_1_cropped.png': 't',\n",
              " 'hand5_7_dif_seg_3_cropped.png': '7',\n",
              " 'hand1_8_left_seg_2_cropped.png': '8',\n",
              " 'hand3_0_dif_seg_4_cropped.png': '0',\n",
              " 'hand4_y_bot_seg_5_cropped.png': 'y',\n",
              " 'hand4_f_bot_seg_5_cropped.png': 'f',\n",
              " 'hand4_a_bot_seg_1_cropped.png': 'a',\n",
              " 'hand2_6_bot_seg_4_cropped.png': '6',\n",
              " 'hand1_x_right_seg_1_cropped.png': 'x',\n",
              " 'hand1_8_bot_seg_5_cropped.png': '8',\n",
              " 'hand1_i_top_seg_5_cropped.png': 'i',\n",
              " 'hand4_s_bot_seg_5_cropped.png': 's',\n",
              " 'hand2_t_bot_seg_4_cropped.png': 't',\n",
              " 'hand3_b_dif_seg_5_cropped.png': 'b',\n",
              " 'hand2_i_top_seg_2_cropped.png': 'i',\n",
              " 'hand2_u_top_seg_5_cropped.png': 'u',\n",
              " 'hand5_2_dif_seg_4_cropped.png': '2',\n",
              " 'hand1_1_bot_seg_2_cropped.png': '1',\n",
              " 'hand2_z_top_seg_2_cropped.png': 'z',\n",
              " 'hand4_a_bot_seg_4_cropped.png': 'a',\n",
              " 'hand2_s_bot_seg_1_cropped.png': 's',\n",
              " 'hand4_b_bot_seg_4_cropped.png': 'b',\n",
              " 'hand1_z_bot_seg_3_cropped.png': 'z',\n",
              " 'hand1_e_right_seg_1_cropped.png': 'e',\n",
              " 'hand2_m_top_seg_5_cropped.png': 'm',\n",
              " 'hand5_z_dif_seg_2_cropped.png': 'z',\n",
              " 'hand2_x_dif_seg_2_cropped.png': 'x',\n",
              " 'hand5_r_dif_seg_4_cropped.png': 'r',\n",
              " 'hand2_b_left_seg_4_cropped.png': 'b',\n",
              " 'hand2_t_right_seg_2_cropped.png': 't',\n",
              " 'hand1_w_right_seg_2_cropped.png': 'w',\n",
              " 'hand5_o_dif_seg_5_cropped.png': 'o',\n",
              " 'hand2_z_dif_seg_5_cropped.png': 'z',\n",
              " 'hand2_j_top_seg_3_cropped.png': 'j',\n",
              " 'hand2_i_bot_seg_2_cropped.png': 'i',\n",
              " 'hand2_e_dif_seg_5_cropped.png': 'e',\n",
              " 'hand2_h_left_seg_3_cropped.png': 'h',\n",
              " 'hand1_e_bot_seg_2_cropped.png': 'e',\n",
              " 'hand1_t_bot_seg_2_cropped.png': 't',\n",
              " 'hand4_v_bot_seg_4_cropped.png': 'v',\n",
              " 'hand2_3_left_seg_3_cropped.png': '3',\n",
              " 'hand2_f_left_seg_2_cropped.png': 'f',\n",
              " 'hand4_4_bot_seg_4_cropped.png': '4',\n",
              " 'hand3_7_dif_seg_5_cropped.png': '7',\n",
              " 'hand1_m_bot_seg_3_cropped.png': 'm',\n",
              " 'hand2_u_left_seg_4_cropped.png': 'u',\n",
              " 'hand4_8_bot_seg_1_cropped.png': '8',\n",
              " 'hand1_9_dif_seg_1_cropped.png': '9',\n",
              " 'hand2_o_dif_seg_3_cropped.png': 'o',\n",
              " 'hand2_b_top_seg_2_cropped.png': 'b',\n",
              " 'hand2_w_left_seg_3_cropped.png': 'w',\n",
              " 'hand1_0_bot_seg_2_cropped.png': '0',\n",
              " 'hand2_f_bot_seg_2_cropped.png': 'f',\n",
              " 'hand3_8_dif_seg_3_cropped.png': '8',\n",
              " 'hand3_x_dif_seg_3_cropped.png': 'x',\n",
              " 'hand1_1_top_seg_4_cropped.png': '1',\n",
              " 'hand1_5_bot_seg_5_cropped.png': '5',\n",
              " 'hand1_q_left_seg_5_cropped.png': 'q',\n",
              " 'hand1_j_left_seg_1_cropped.png': 'j',\n",
              " 'hand2_5_right_seg_5_cropped.png': '5',\n",
              " 'hand2_s_top_seg_4_cropped.png': 's',\n",
              " 'hand1_w_top_seg_4_cropped.png': 'w',\n",
              " 'hand1_q_left_seg_4_cropped.png': 'q',\n",
              " 'hand2_w_bot_seg_1_cropped.png': 'w',\n",
              " 'hand2_8_right_seg_4_cropped.png': '8',\n",
              " 'hand2_4_dif_seg_2_cropped.png': '4',\n",
              " 'hand3_i_dif_seg_3_cropped.png': 'i',\n",
              " 'hand3_k_dif_seg_5_cropped.png': 'k',\n",
              " 'hand1_v_dif_seg_2_cropped.png': 'v',\n",
              " 'hand2_1_top_seg_5_cropped.png': '1',\n",
              " 'hand2_g_dif_seg_3_cropped.png': 'g',\n",
              " 'hand3_2_dif_seg_5_cropped.png': '2',\n",
              " 'hand5_v_dif_seg_3_cropped.png': 'v',\n",
              " 'hand1_s_left_seg_3_cropped.png': 's',\n",
              " 'hand2_3_dif_seg_1_cropped.png': '3',\n",
              " 'hand4_h_bot_seg_5_cropped.png': 'h',\n",
              " 'hand3_e_dif_seg_2_cropped.png': 'e',\n",
              " 'hand1_9_bot_seg_5_cropped.png': '9',\n",
              " 'hand1_3_bot_seg_5_cropped.png': '3',\n",
              " 'hand2_7_bot_seg_1_cropped.png': '7',\n",
              " 'hand1_c_right_seg_1_cropped.png': 'c',\n",
              " 'hand1_r_dif_seg_2_cropped.png': 'r',\n",
              " 'hand2_1_dif_seg_3_cropped.png': '1',\n",
              " 'hand4_9_bot_seg_4_cropped.png': '9',\n",
              " 'hand5_5_dif_seg_1_cropped.png': '5',\n",
              " 'hand1_s_left_seg_1_cropped.png': 's',\n",
              " 'hand1_k_right_seg_5_cropped.png': 'k',\n",
              " 'hand5_t_dif_seg_1_cropped.png': 't',\n",
              " 'hand5_a_dif_seg_4_cropped.png': 'a',\n",
              " 'hand4_2_bot_seg_2_cropped.png': '2',\n",
              " 'hand2_3_top_seg_3_cropped.png': '3',\n",
              " 'hand2_5_bot_seg_4_cropped.png': '5',\n",
              " 'hand1_p_top_seg_5_cropped.png': 'p',\n",
              " 'hand2_7_left_seg_4_cropped.png': '7',\n",
              " 'hand1_7_bot_seg_1_cropped.png': '7',\n",
              " 'hand2_5_dif_seg_3_cropped.png': '5',\n",
              " 'hand1_1_top_seg_2_cropped.png': '1',\n",
              " 'hand2_z_left_seg_5_cropped.png': 'z',\n",
              " 'hand1_u_left_seg_3_cropped.png': 'u',\n",
              " 'hand2_9_right_seg_3_cropped.png': '9',\n",
              " 'hand5_7_bot_seg_1_cropped.png': '7',\n",
              " 'hand1_a_top_seg_2_cropped.png': 'a',\n",
              " 'hand5_4_bot_seg_3_cropped.png': '4',\n",
              " 'hand1_v_top_seg_5_cropped.png': 'v',\n",
              " 'hand5_i_dif_seg_3_cropped.png': 'i',\n",
              " 'hand2_1_dif_seg_2_cropped.png': '1',\n",
              " 'hand1_z_right_seg_3_cropped.png': 'z',\n",
              " 'hand5_q_dif_seg_2_cropped.png': 'q',\n",
              " 'hand5_z_dif_seg_3_cropped.png': 'z',\n",
              " 'hand2_y_dif_seg_4_cropped.png': 'y',\n",
              " 'hand4_4_bot_seg_1_cropped.png': '4',\n",
              " 'hand4_1_bot_seg_2_cropped.png': '1',\n",
              " 'hand4_u_bot_seg_5_cropped.png': 'u',\n",
              " 'hand5_1_bot_seg_4_cropped.png': '1',\n",
              " 'hand2_r_top_seg_4_cropped.png': 'r',\n",
              " 'hand5_u_bot_seg_1_cropped.png': 'u',\n",
              " 'hand5_n_dif_seg_4_cropped.png': 'n',\n",
              " 'hand4_k_bot_seg_1_cropped.png': 'k',\n",
              " 'hand2_r_left_seg_1_cropped.png': 'r',\n",
              " 'hand1_9_right_seg_1_cropped.png': '9',\n",
              " 'hand3_t_dif_seg_4_cropped.png': 't',\n",
              " 'hand2_t_top_seg_5_cropped.png': 't',\n",
              " 'hand2_f_left_seg_1_cropped.png': 'f',\n",
              " 'hand2_h_bot_seg_2_cropped.png': 'h',\n",
              " 'hand2_e_dif_seg_4_cropped.png': 'e',\n",
              " 'hand1_h_dif_seg_4_cropped.png': 'h',\n",
              " 'hand2_v_dif_seg_5_cropped.png': 'v',\n",
              " 'hand5_q_dif_seg_1_cropped.png': 'q',\n",
              " 'hand4_t_bot_seg_2_cropped.png': 't',\n",
              " 'hand3_c_dif_seg_4_cropped.png': 'c',\n",
              " 'hand2_k_top_seg_1_cropped.png': 'k',\n",
              " 'hand4_b_bot_seg_5_cropped.png': 'b',\n",
              " 'hand3_2_dif_seg_2_cropped.png': '2',\n",
              " 'hand2_6_dif_seg_1_cropped.png': '6',\n",
              " 'hand4_0_bot_seg_2_cropped.png': '0',\n",
              " 'hand2_x_right_seg_5_cropped.png': 'x',\n",
              " 'hand1_q_right_seg_4_cropped.png': 'q',\n",
              " 'hand1_p_top_seg_1_cropped.png': 'p',\n",
              " 'hand1_b_bot_seg_1_cropped.png': 'b',\n",
              " 'hand4_c_bot_seg_2_cropped.png': 'c',\n",
              " 'hand2_q_bot_seg_4_cropped.png': 'q',\n",
              " 'hand5_g_dif_seg_3_cropped.png': 'g',\n",
              " 'hand1_v_left_seg_2_cropped.png': 'v',\n",
              " 'hand2_y_top_seg_4_cropped.png': 'y',\n",
              " 'hand5_k_dif_seg_2_cropped.png': 'k',\n",
              " 'hand1_f_dif_seg_5_cropped.png': 'f',\n",
              " 'hand1_8_right_seg_5_cropped.png': '8',\n",
              " 'hand1_w_left_seg_5_cropped.png': 'w',\n",
              " 'hand2_t_left_seg_2_cropped.png': 't',\n",
              " 'hand1_w_top_seg_2_cropped.png': 'w',\n",
              " 'hand1_g_right_seg_2_cropped.png': 'g',\n",
              " 'hand2_r_right_seg_5_cropped.png': 'r',\n",
              " 'hand2_i_left_seg_3_cropped.png': 'i',\n",
              " 'hand1_4_right_seg_2_cropped.png': '4',\n",
              " 'hand1_y_left_seg_3_cropped.png': 'y',\n",
              " 'hand2_b_left_seg_1_cropped.png': 'b',\n",
              " 'hand5_h_dif_seg_3_cropped.png': 'h',\n",
              " 'hand1_h_dif_seg_1_cropped.png': 'h',\n",
              " 'hand1_n_dif_seg_2_cropped.png': 'n',\n",
              " 'hand5_f_bot_seg_2_cropped.png': 'f',\n",
              " 'hand3_i_dif_seg_4_cropped.png': 'i',\n",
              " 'hand2_4_top_seg_3_cropped.png': '4',\n",
              " 'hand1_g_right_seg_4_cropped.png': 'g',\n",
              " 'hand1_s_top_seg_5_cropped.png': 's',\n",
              " 'hand1_t_right_seg_2_cropped.png': 't',\n",
              " 'hand2_f_right_seg_5_cropped.png': 'f',\n",
              " 'hand1_i_bot_seg_4_cropped.png': 'i',\n",
              " 'hand4_5_bot_seg_1_cropped.png': '5',\n",
              " 'hand3_7_dif_seg_4_cropped.png': '7',\n",
              " 'hand1_a_right_seg_5_cropped.png': 'a',\n",
              " 'hand2_x_top_seg_1_cropped.png': 'x',\n",
              " 'hand5_c_dif_seg_4_cropped.png': 'c',\n",
              " 'hand1_n_bot_seg_1_cropped.png': 'n',\n",
              " 'hand1_3_top_seg_4_cropped.png': '3',\n",
              " 'hand1_t_top_seg_1_cropped.png': 't',\n",
              " 'hand1_m_right_seg_3_cropped.png': 'm',\n",
              " 'hand1_r_dif_seg_1_cropped.png': 'r',\n",
              " 'hand2_i_left_seg_1_cropped.png': 'i',\n",
              " 'hand2_5_right_seg_3_cropped.png': '5',\n",
              " 'hand2_w_left_seg_1_cropped.png': 'w',\n",
              " 'hand1_2_top_seg_4_cropped.png': '2',\n",
              " 'hand5_5_bot_seg_1_cropped.png': '5',\n",
              " 'hand4_d_bot_seg_5_cropped.png': 'd',\n",
              " 'hand5_x_bot_seg_1_cropped.png': 'x',\n",
              " 'hand1_9_bot_seg_3_cropped.png': '9',\n",
              " 'hand2_c_top_seg_1_cropped.png': 'c',\n",
              " 'hand1_8_left_seg_5_cropped.png': '8',\n",
              " 'hand2_7_bot_seg_2_cropped.png': '7',\n",
              " 'hand2_9_top_seg_5_cropped.png': '9',\n",
              " 'hand2_w_bot_seg_4_cropped.png': 'w',\n",
              " 'hand1_e_dif_seg_1_cropped.png': 'e',\n",
              " 'hand1_9_right_seg_4_cropped.png': '9',\n",
              " 'hand4_z_bot_seg_1_cropped.png': 'z',\n",
              " 'hand2_8_right_seg_5_cropped.png': '8',\n",
              " 'hand1_q_top_seg_1_cropped.png': 'q',\n",
              " 'hand2_i_left_seg_4_cropped.png': 'i',\n",
              " 'hand1_2_bot_seg_2_cropped.png': '2',\n",
              " 'hand1_w_dif_seg_3_cropped.png': 'w',\n",
              " 'hand2_o_right_seg_1_cropped.png': 'o',\n",
              " 'hand2_e_bot_seg_1_cropped.png': 'e',\n",
              " 'hand5_g_dif_seg_1_cropped.png': 'g',\n",
              " 'hand5_5_bot_seg_2_cropped.png': '5',\n",
              " 'hand2_1_left_seg_3_cropped.png': '1',\n",
              " 'hand2_n_left_seg_5_cropped.png': 'n',\n",
              " 'hand5_v_bot_seg_1_cropped.png': 'v',\n",
              " 'hand1_u_top_seg_3_cropped.png': 'u',\n",
              " 'hand2_w_top_seg_5_cropped.png': 'w',\n",
              " 'hand2_7_dif_seg_1_cropped.png': '7',\n",
              " 'hand2_f_right_seg_4_cropped.png': 'f',\n",
              " 'hand4_n_bot_seg_4_cropped.png': 'n',\n",
              " 'hand4_0_bot_seg_5_cropped.png': '0',\n",
              " 'hand1_t_dif_seg_4_cropped.png': 't',\n",
              " 'hand1_b_dif_seg_4_cropped.png': 'b',\n",
              " 'hand5_k_dif_seg_5_cropped.png': 'k',\n",
              " 'hand4_f_bot_seg_2_cropped.png': 'f',\n",
              " 'hand1_a_right_seg_4_cropped.png': 'a',\n",
              " 'hand1_u_dif_seg_5_cropped.png': 'u',\n",
              " 'hand5_g_dif_seg_5_cropped.png': 'g',\n",
              " 'hand1_1_right_seg_5_cropped.png': '1',\n",
              " 'hand2_8_left_seg_3_cropped.png': '8',\n",
              " 'hand1_b_left_seg_3_cropped.png': 'b',\n",
              " 'hand1_h_right_seg_1_cropped.png': 'h',\n",
              " 'hand5_v_bot_seg_3_cropped.png': 'v',\n",
              " 'hand2_7_bot_seg_3_cropped.png': '7',\n",
              " 'hand2_v_bot_seg_1_cropped.png': 'v',\n",
              " 'hand1_4_right_seg_1_cropped.png': '4',\n",
              " 'hand3_5_dif_seg_4_cropped.png': '5',\n",
              " 'hand5_b_dif_seg_2_cropped.png': 'b',\n",
              " 'hand2_g_left_seg_2_cropped.png': 'g',\n",
              " 'hand5_z_bot_seg_1_cropped.png': 'z',\n",
              " 'hand1_q_bot_seg_2_cropped.png': 'q',\n",
              " 'hand1_1_bot_seg_1_cropped.png': '1',\n",
              " 'hand2_s_left_seg_2_cropped.png': 's',\n",
              " 'hand3_w_dif_seg_4_cropped.png': 'w',\n",
              " 'hand2_e_top_seg_1_cropped.png': 'e',\n",
              " 'hand1_t_bot_seg_4_cropped.png': 't',\n",
              " 'hand1_m_left_seg_4_cropped.png': 'm',\n",
              " 'hand4_7_bot_seg_4_cropped.png': '7',\n",
              " 'hand3_0_dif_seg_5_cropped.png': '0',\n",
              " 'hand1_5_top_seg_2_cropped.png': '5',\n",
              " 'hand5_8_bot_seg_1_cropped.png': '8',\n",
              " 'hand2_n_top_seg_3_cropped.png': 'n',\n",
              " 'hand2_d_left_seg_5_cropped.png': 'd',\n",
              " 'hand1_6_bot_seg_2_cropped.png': '6',\n",
              " 'hand2_r_bot_seg_4_cropped.png': 'r',\n",
              " 'hand5_l_bot_seg_5_cropped.png': 'l',\n",
              " 'hand2_y_top_seg_1_cropped.png': 'y',\n",
              " 'hand1_e_left_seg_4_cropped.png': 'e',\n",
              " 'hand5_v_bot_seg_2_cropped.png': 'v',\n",
              " 'hand1_a_left_seg_4_cropped.png': 'a',\n",
              " 'hand4_k_bot_seg_2_cropped.png': 'k',\n",
              " 'hand1_u_bot_seg_2_cropped.png': 'u',\n",
              " 'hand2_c_right_seg_2_cropped.png': 'c',\n",
              " 'hand2_b_bot_seg_1_cropped.png': 'b',\n",
              " 'hand1_t_top_seg_3_cropped.png': 't',\n",
              " 'hand2_0_left_seg_5_cropped.png': '0',\n",
              " 'hand2_x_left_seg_5_cropped.png': 'x',\n",
              " 'hand2_z_left_seg_1_cropped.png': 'z',\n",
              " 'hand2_e_left_seg_5_cropped.png': 'e',\n",
              " 'hand5_s_dif_seg_3_cropped.png': 's',\n",
              " 'hand2_h_right_seg_4_cropped.png': 'h',\n",
              " 'hand2_a_right_seg_4_cropped.png': 'a',\n",
              " 'hand4_9_bot_seg_2_cropped.png': '9',\n",
              " 'hand1_6_top_seg_2_cropped.png': '6',\n",
              " 'hand4_d_bot_seg_1_cropped.png': 'd',\n",
              " 'hand3_m_dif_seg_1_cropped.png': 'm',\n",
              " 'hand5_d_dif_seg_4_cropped.png': 'd',\n",
              " 'hand3_i_dif_seg_1_cropped.png': 'i',\n",
              " 'hand5_m_dif_seg_3_cropped.png': 'm',\n",
              " 'hand1_g_top_seg_4_cropped.png': 'g',\n",
              " 'hand5_e_bot_seg_4_cropped.png': 'e',\n",
              " 'hand5_n_bot_seg_1_cropped.png': 'n',\n",
              " 'hand1_h_bot_seg_3_cropped.png': 'h',\n",
              " 'hand2_2_bot_seg_3_cropped.png': '2',\n",
              " 'hand1_2_left_seg_2_cropped.png': '2',\n",
              " 'hand1_f_bot_seg_3_cropped.png': 'f',\n",
              " 'hand1_x_left_seg_1_cropped.png': 'x',\n",
              " 'hand2_j_right_seg_1_cropped.png': 'j',\n",
              " 'hand1_7_left_seg_1_cropped.png': '7',\n",
              " 'hand1_s_bot_seg_2_cropped.png': 's',\n",
              " 'hand1_g_right_seg_1_cropped.png': 'g',\n",
              " 'hand5_6_dif_seg_4_cropped.png': '6',\n",
              " 'hand2_x_bot_seg_1_cropped.png': 'x',\n",
              " 'hand2_4_top_seg_1_cropped.png': '4',\n",
              " 'hand1_x_bot_seg_1_cropped.png': 'x',\n",
              " 'hand2_h_bot_seg_4_cropped.png': 'h',\n",
              " 'hand1_s_right_seg_2_cropped.png': 's',\n",
              " 'hand5_a_dif_seg_5_cropped.png': 'a',\n",
              " 'hand1_4_bot_seg_4_cropped.png': '4',\n",
              " 'hand2_k_left_seg_5_cropped.png': 'k',\n",
              " 'hand3_5_dif_seg_5_cropped.png': '5',\n",
              " 'hand1_5_bot_seg_1_cropped.png': '5',\n",
              " 'hand5_u_dif_seg_5_cropped.png': 'u',\n",
              " 'hand2_4_bot_seg_2_cropped.png': '4',\n",
              " 'hand3_t_dif_seg_5_cropped.png': 't',\n",
              " 'hand2_1_dif_seg_1_cropped.png': '1',\n",
              " 'hand1_7_bot_seg_3_cropped.png': '7',\n",
              " 'hand2_6_right_seg_3_cropped.png': '6',\n",
              " 'hand2_x_left_seg_2_cropped.png': 'x',\n",
              " 'hand2_y_right_seg_4_cropped.png': 'y',\n",
              " 'hand1_m_dif_seg_4_cropped.png': 'm',\n",
              " 'hand5_h_bot_seg_2_cropped.png': 'h',\n",
              " 'hand4_g_bot_seg_4_cropped.png': 'g',\n",
              " 'hand1_q_right_seg_2_cropped.png': 'q',\n",
              " 'hand5_l_bot_seg_1_cropped.png': 'l',\n",
              " 'hand2_d_bot_seg_2_cropped.png': 'd',\n",
              " 'hand2_3_top_seg_1_cropped.png': '3',\n",
              " 'hand1_c_dif_seg_1_cropped.png': 'c',\n",
              " 'hand1_i_left_seg_1_cropped.png': 'i',\n",
              " 'hand4_6_bot_seg_2_cropped.png': '6',\n",
              " 'hand2_j_bot_seg_2_cropped.png': 'j',\n",
              " 'hand2_q_right_seg_4_cropped.png': 'q',\n",
              " 'hand2_o_left_seg_1_cropped.png': 'o',\n",
              " 'hand4_x_bot_seg_4_cropped.png': 'x',\n",
              " 'hand1_a_bot_seg_2_cropped.png': 'a',\n",
              " 'hand1_d_bot_seg_5_cropped.png': 'd',\n",
              " 'hand5_c_bot_seg_4_cropped.png': 'c',\n",
              " 'hand2_i_bot_seg_5_cropped.png': 'i',\n",
              " 'hand1_7_bot_seg_2_cropped.png': '7',\n",
              " 'hand1_l_dif_seg_5_cropped.png': 'l',\n",
              " 'hand5_n_dif_seg_1_cropped.png': 'n',\n",
              " 'hand1_0_right_seg_3_cropped.png': '0',\n",
              " 'hand5_v_dif_seg_5_cropped.png': 'v',\n",
              " 'hand2_7_left_seg_2_cropped.png': '7',\n",
              " 'hand3_w_dif_seg_1_cropped.png': 'w',\n",
              " 'hand2_u_bot_seg_4_cropped.png': 'u',\n",
              " 'hand2_w_dif_seg_3_cropped.png': 'w',\n",
              " 'hand2_k_top_seg_3_cropped.png': 'k',\n",
              " 'hand4_j_bot_seg_1_cropped.png': 'j',\n",
              " 'hand5_o_bot_seg_5_cropped.png': 'o',\n",
              " 'hand4_p_bot_seg_3_cropped.png': 'p',\n",
              " 'hand1_d_top_seg_2_cropped.png': 'd',\n",
              " 'hand4_p_bot_seg_4_cropped.png': 'p',\n",
              " 'hand2_q_dif_seg_5_cropped.png': 'q',\n",
              " 'hand1_z_left_seg_3_cropped.png': 'z',\n",
              " 'hand2_y_right_seg_1_cropped.png': 'y',\n",
              " 'hand5_i_bot_seg_5_cropped.png': 'i',\n",
              " 'hand3_w_dif_seg_5_cropped.png': 'w',\n",
              " 'hand1_w_dif_seg_5_cropped.png': 'w',\n",
              " 'hand5_h_dif_seg_4_cropped.png': 'h',\n",
              " 'hand1_1_bot_seg_3_cropped.png': '1',\n",
              " 'hand1_3_dif_seg_1_cropped.png': '3',\n",
              " 'hand5_5_dif_seg_3_cropped.png': '5',\n",
              " 'hand2_r_dif_seg_4_cropped.png': 'r',\n",
              " 'hand5_0_dif_seg_2_cropped.png': '0',\n",
              " 'hand2_o_bot_seg_4_cropped.png': 'o',\n",
              " 'hand1_a_top_seg_3_cropped.png': 'a',\n",
              " 'hand2_c_left_seg_2_cropped.png': 'c',\n",
              " 'hand1_g_left_seg_4_cropped.png': 'g',\n",
              " 'hand3_l_dif_seg_3_cropped.png': 'l',\n",
              " 'hand4_k_bot_seg_5_cropped.png': 'k',\n",
              " 'hand1_g_left_seg_5_cropped.png': 'g',\n",
              " 'hand5_w_bot_seg_4_cropped.png': 'w',\n",
              " 'hand2_2_top_seg_3_cropped.png': '2',\n",
              " 'hand5_i_dif_seg_5_cropped.png': 'i',\n",
              " 'hand1_4_dif_seg_1_cropped.png': '4',\n",
              " 'hand5_6_dif_seg_3_cropped.png': '6',\n",
              " 'hand1_4_left_seg_1_cropped.png': '4',\n",
              " 'hand5_7_dif_seg_5_cropped.png': '7',\n",
              " 'hand5_m_dif_seg_4_cropped.png': 'm',\n",
              " 'hand2_q_right_seg_2_cropped.png': 'q',\n",
              " 'hand2_5_dif_seg_1_cropped.png': '5',\n",
              " 'hand5_3_dif_seg_2_cropped.png': '3',\n",
              " 'hand2_b_top_seg_3_cropped.png': 'b',\n",
              " 'hand1_q_dif_seg_3_cropped.png': 'q',\n",
              " 'hand2_9_bot_seg_2_cropped.png': '9',\n",
              " 'hand1_v_right_seg_3_cropped.png': 'v',\n",
              " 'hand2_3_right_seg_5_cropped.png': '3',\n",
              " 'hand3_x_dif_seg_4_cropped.png': 'x',\n",
              " 'hand5_h_dif_seg_5_cropped.png': 'h',\n",
              " 'hand1_3_bot_seg_1_cropped.png': '3',\n",
              " 'hand2_w_dif_seg_4_cropped.png': 'w',\n",
              " 'hand1_z_bot_seg_1_cropped.png': 'z',\n",
              " 'hand4_e_bot_seg_2_cropped.png': 'e',\n",
              " 'hand1_i_right_seg_1_cropped.png': 'i',\n",
              " 'hand1_l_left_seg_2_cropped.png': 'l',\n",
              " 'hand5_3_bot_seg_3_cropped.png': '3',\n",
              " 'hand5_h_bot_seg_1_cropped.png': 'h',\n",
              " 'hand1_e_right_seg_5_cropped.png': 'e',\n",
              " 'hand5_z_bot_seg_4_cropped.png': 'z',\n",
              " 'hand2_0_bot_seg_1_cropped.png': '0',\n",
              " 'hand1_u_bot_seg_1_cropped.png': 'u',\n",
              " 'hand1_i_right_seg_2_cropped.png': 'i',\n",
              " 'hand1_8_right_seg_4_cropped.png': '8',\n",
              " 'hand1_2_left_seg_5_cropped.png': '2',\n",
              " 'hand1_1_right_seg_1_cropped.png': '1',\n",
              " 'hand5_s_dif_seg_2_cropped.png': 's',\n",
              " 'hand2_v_right_seg_1_cropped.png': 'v',\n",
              " 'hand1_e_bot_seg_1_cropped.png': 'e',\n",
              " 'hand3_o_dif_seg_4_cropped.png': 'o',\n",
              " 'hand2_z_right_seg_4_cropped.png': 'z',\n",
              " 'hand2_d_top_seg_4_cropped.png': 'd',\n",
              " 'hand2_5_top_seg_3_cropped.png': '5',\n",
              " 'hand5_m_bot_seg_5_cropped.png': 'm',\n",
              " 'hand3_o_dif_seg_1_cropped.png': 'o',\n",
              " 'hand2_y_top_seg_3_cropped.png': 'y',\n",
              " 'hand5_6_bot_seg_1_cropped.png': '6',\n",
              " 'hand1_3_top_seg_5_cropped.png': '3',\n",
              " 'hand5_b_dif_seg_5_cropped.png': 'b',\n",
              " 'hand3_k_dif_seg_3_cropped.png': 'k',\n",
              " 'hand1_k_bot_seg_1_cropped.png': 'k',\n",
              " 'hand2_e_top_seg_4_cropped.png': 'e',\n",
              " 'hand1_i_dif_seg_3_cropped.png': 'i',\n",
              " 'hand2_6_top_seg_3_cropped.png': '6',\n",
              " 'hand3_8_dif_seg_2_cropped.png': '8',\n",
              " 'hand2_t_top_seg_4_cropped.png': 't',\n",
              " 'hand1_s_top_seg_1_cropped.png': 's',\n",
              " 'hand3_8_dif_seg_1_cropped.png': '8',\n",
              " 'hand2_y_left_seg_2_cropped.png': 'y',\n",
              " 'hand2_p_top_seg_4_cropped.png': 'p',\n",
              " 'hand1_g_top_seg_5_cropped.png': 'g',\n",
              " 'hand2_2_dif_seg_5_cropped.png': '2',\n",
              " 'hand1_z_bot_seg_2_cropped.png': 'z',\n",
              " 'hand1_r_left_seg_3_cropped.png': 'r',\n",
              " 'hand2_e_dif_seg_3_cropped.png': 'e',\n",
              " 'hand2_o_dif_seg_4_cropped.png': 'o',\n",
              " 'hand1_7_dif_seg_1_cropped.png': '7',\n",
              " 'hand1_2_top_seg_5_cropped.png': '2',\n",
              " 'hand5_w_dif_seg_2_cropped.png': 'w',\n",
              " 'hand1_d_bot_seg_1_cropped.png': 'd',\n",
              " 'hand1_0_top_seg_2_cropped.png': '0',\n",
              " 'hand5_v_bot_seg_4_cropped.png': 'v',\n",
              " 'hand5_n_bot_seg_3_cropped.png': 'n',\n",
              " 'hand2_w_right_seg_2_cropped.png': 'w',\n",
              " 'hand1_6_dif_seg_4_cropped.png': '6',\n",
              " 'hand4_i_bot_seg_5_cropped.png': 'i',\n",
              " 'hand2_4_left_seg_2_cropped.png': '4',\n",
              " 'hand1_6_right_seg_3_cropped.png': '6',\n",
              " 'hand1_d_top_seg_3_cropped.png': 'd',\n",
              " 'hand1_g_right_seg_5_cropped.png': 'g',\n",
              " 'hand2_e_dif_seg_2_cropped.png': 'e',\n",
              " 'hand2_n_right_seg_2_cropped.png': 'n',\n",
              " 'hand2_5_left_seg_5_cropped.png': '5',\n",
              " 'hand4_q_bot_seg_1_cropped.png': 'q',\n",
              " ...}"
            ]
          },
          "metadata": {
            "tags": []
          },
          "execution_count": 7
        }
      ]
    },
    {
      "cell_type": "markdown",
      "metadata": {
        "id": "fYvph-w57TSj",
        "colab_type": "text"
      },
      "source": [
        "## Load the dataset"
      ]
    },
    {
      "cell_type": "code",
      "metadata": {
        "id": "5PEJCT3BffjX",
        "colab_type": "code",
        "colab": {}
      },
      "source": [
        "def dataset(image_dir):\n",
        "  X = [] # Image data\n",
        "  Y = [] # Labels\n",
        "\n",
        "  # Loops through imagepaths to load images and labels into arrays\n",
        "  for key in results_dic:\n",
        "    img = cv2.imread(image_dir + '/'+ key) # Reads image and returns np.array\n",
        "    img = cv2.cvtColor(img, cv2.COLOR_BGR2GRAY) # Converts into the corret colorspace (GRAY)\n",
        "    img = cv2.resize(img, (320, 120)) # Reduce image size so training can be faster\n",
        "    X.append(img)\n",
        "    \n",
        "    #Get the lable\n",
        "    label = results_dic[key]\n",
        "    # Append the lables \n",
        "    Y.append(label)\n",
        "\n",
        "  # Turn X and y into np.array to speed up train_test_split\n",
        "  X = np.array(X, dtype=\"uint8\")\n",
        "  Y = np.array(Y)\n",
        "  print(\"len(image_dir)\",len(image_dir))\n",
        "  print(\"len(image_dir)\",len(results_dic))\n",
        "  print(\"Shape of X \", X.shape)\n",
        "  print(\"Shape of Y \", Y.shape)\n",
        "  X = X.reshape(len(results_dic), 120, 320, 1) # Needed to reshape so CNN knows it's different images\n",
        "  print(\"Shape of X after reshaping \", X.shape)\n",
        "  return X,Y"
      ],
      "execution_count": 0,
      "outputs": []
    },
    {
      "cell_type": "code",
      "metadata": {
        "id": "vyyfV5BSkVmq",
        "colab_type": "code",
        "outputId": "d4136a16-ee05-44c8-83bc-03cb9efd2560",
        "colab": {
          "base_uri": "https://localhost:8080/",
          "height": 139
        }
      },
      "source": [
        "X,Y = dataset(image_dir)\n",
        "print(\"Images loaded: \", len(X))\n",
        "print(\"Labels loaded: \", len(Y))"
      ],
      "execution_count": 0,
      "outputs": [
        {
          "output_type": "stream",
          "text": [
            "len(image_dir) 43\n",
            "len(image_dir) 2515\n",
            "Shape of X  (2515, 120, 320)\n",
            "Shape of Y  (2515,)\n",
            "Shape of X after reshaping  (2515, 120, 320, 1)\n",
            "Images loaded:  2515\n",
            "Labels loaded:  2515\n"
          ],
          "name": "stdout"
        }
      ]
    },
    {
      "cell_type": "markdown",
      "metadata": {
        "id": "UeKbNWzJ7bRJ",
        "colab_type": "text"
      },
      "source": [
        "## Split the dataset"
      ]
    },
    {
      "cell_type": "code",
      "metadata": {
        "id": "Oyg68hp69NtY",
        "colab_type": "code",
        "outputId": "38fe5059-b2bc-4220-e7ff-1bfbc4cd81f5",
        "colab": {
          "base_uri": "https://localhost:8080/",
          "height": 35
        }
      },
      "source": [
        "ts = 0.3 # Percentage of images that we want to use for testing. The rest is used for training.\n",
        "X_train, X_test, y_train, y_test = train_test_split(X, Y, test_size=ts, random_state=42)\n",
        "y_train.size"
      ],
      "execution_count": 0,
      "outputs": [
        {
          "output_type": "execute_result",
          "data": {
            "text/plain": [
              "1760"
            ]
          },
          "metadata": {
            "tags": []
          },
          "execution_count": 10
        }
      ]
    },
    {
      "cell_type": "markdown",
      "metadata": {
        "id": "OyHI7Mab7dug",
        "colab_type": "text"
      },
      "source": [
        "## One hot encoding"
      ]
    },
    {
      "cell_type": "code",
      "metadata": {
        "id": "RisLyXuVEPaW",
        "colab_type": "code",
        "colab": {}
      },
      "source": [
        "def one_hot_encode(data):\n",
        "  label_encoder = LabelEncoder()\n",
        "  vec = label_encoder.fit_transform(data)\n",
        "  return vec"
      ],
      "execution_count": 0,
      "outputs": []
    },
    {
      "cell_type": "code",
      "metadata": {
        "id": "9FsB0j4Hstfp",
        "colab_type": "code",
        "outputId": "32b84415-bb83-4994-8913-d3bf79f67928",
        "colab": {
          "base_uri": "https://localhost:8080/",
          "height": 52
        }
      },
      "source": [
        "print(\"y_train[:5]\", y_train[:5])\n",
        "y_train = one_hot_encode(y_train)\n",
        "y_test = one_hot_encode(y_test)\n",
        "print(\"y_train[:5]\", y_train[:5])"
      ],
      "execution_count": 0,
      "outputs": [
        {
          "output_type": "stream",
          "text": [
            "y_train[:5] ['r' 'e' 'o' 'z' 'q']\n",
            "y_train[:5] [27 14 24 35 26]\n"
          ],
          "name": "stdout"
        }
      ]
    },
    {
      "cell_type": "markdown",
      "metadata": {
        "id": "JfVBWqlK7j5O",
        "colab_type": "text"
      },
      "source": [
        "## Build the model"
      ]
    },
    {
      "cell_type": "code",
      "metadata": {
        "id": "NbhSQ4EyyApz",
        "colab_type": "code",
        "colab": {}
      },
      "source": [
        "# Construction of model\n",
        "model = Sequential()\n",
        "model.add(Conv2D(32, (5, 5), activation='relu', input_shape=(120, 320, 1))) \n",
        "model.add(MaxPooling2D((2, 2)))\n",
        "model.add(Conv2D(64, (3, 3), activation='relu')) \n",
        "model.add(MaxPooling2D((2, 2)))\n",
        "model.add(Conv2D(64, (3, 3), activation='relu'))\n",
        "model.add(MaxPooling2D((2, 2)))\n",
        "model.add(Flatten())\n",
        "model.add(Dense(128, activation='relu'))\n",
        "model.add(Dense(36, activation='softmax'))"
      ],
      "execution_count": 0,
      "outputs": []
    },
    {
      "cell_type": "markdown",
      "metadata": {
        "id": "Tt41oUDL7pbY",
        "colab_type": "text"
      },
      "source": [
        "## Train the model"
      ]
    },
    {
      "cell_type": "code",
      "metadata": {
        "id": "dGMhsLTY9Ghg",
        "colab_type": "code",
        "colab": {}
      },
      "source": [
        "# Configures the model for training\n",
        "model.compile(optimizer='adam', # Optimization routine, which tells the computer how to adjust the parameter values to minimize the loss function.\n",
        "              loss='sparse_categorical_crossentropy', # Loss function, which tells us how bad our predictions are.\n",
        "              metrics=['accuracy']) # List of metrics to be evaluated by the model during training and testing."
      ],
      "execution_count": 0,
      "outputs": []
    },
    {
      "cell_type": "code",
      "metadata": {
        "id": "RT9dtwWI94XW",
        "colab_type": "code",
        "outputId": "49ff6635-9c72-4935-9162-8dd8c0279fa1",
        "colab": {
          "base_uri": "https://localhost:8080/",
          "height": 225
        }
      },
      "source": [
        "# Trains the model for a given number of epochs (iterations on a dataset) and validates it.\n",
        "model.fit(X_train, y_train, epochs=5, batch_size=64, verbose=2, validation_data=(X_test, y_test))"
      ],
      "execution_count": 0,
      "outputs": [
        {
          "output_type": "stream",
          "text": [
            "Train on 1760 samples, validate on 755 samples\n",
            "Epoch 1/5\n",
            " - 11s - loss: 7.5855 - accuracy: 0.3767 - val_loss: 0.6498 - val_accuracy: 0.8066\n",
            "Epoch 2/5\n",
            " - 2s - loss: 0.3308 - accuracy: 0.9080 - val_loss: 0.2595 - val_accuracy: 0.9232\n",
            "Epoch 3/5\n",
            " - 2s - loss: 0.0647 - accuracy: 0.9807 - val_loss: 0.2448 - val_accuracy: 0.9311\n",
            "Epoch 4/5\n",
            " - 2s - loss: 0.0499 - accuracy: 0.9852 - val_loss: 0.2564 - val_accuracy: 0.9364\n",
            "Epoch 5/5\n",
            " - 2s - loss: 0.0229 - accuracy: 0.9915 - val_loss: 0.2388 - val_accuracy: 0.9444\n"
          ],
          "name": "stdout"
        },
        {
          "output_type": "execute_result",
          "data": {
            "text/plain": [
              "<keras.callbacks.callbacks.History at 0x7f98a0077f98>"
            ]
          },
          "metadata": {
            "tags": []
          },
          "execution_count": 15
        }
      ]
    },
    {
      "cell_type": "code",
      "metadata": {
        "id": "ZeA2n-wsl_Uk",
        "colab_type": "code",
        "colab": {}
      },
      "source": [
        "# Save entire model to a HDF5 file\n",
        "model.save('handrecognition_model.h5')"
      ],
      "execution_count": 0,
      "outputs": []
    },
    {
      "cell_type": "markdown",
      "metadata": {
        "id": "uHDe8fuNo9z6",
        "colab_type": "text"
      },
      "source": [
        "## Test the Model "
      ]
    },
    {
      "cell_type": "code",
      "metadata": {
        "id": "G_E2PABTpCGB",
        "colab_type": "code",
        "outputId": "c8d28527-d159-4ee9-ee3e-d7fe302ef10f",
        "colab": {
          "base_uri": "https://localhost:8080/",
          "height": 52
        }
      },
      "source": [
        "test_loss, test_acc = model.evaluate(X_test, y_test)\n",
        "print('Test accuracy: {:2.2f}%'.format(test_acc*100))"
      ],
      "execution_count": 0,
      "outputs": [
        {
          "output_type": "stream",
          "text": [
            "755/755 [==============================] - 1s 747us/step\n",
            "Test accuracy: 94.44%\n"
          ],
          "name": "stdout"
        }
      ]
    },
    {
      "cell_type": "code",
      "metadata": {
        "id": "J4w5pWlHpK60",
        "colab_type": "code",
        "outputId": "8c000267-6143-463b-fe8b-06789d7e536e",
        "colab": {
          "base_uri": "https://localhost:8080/",
          "height": 35
        }
      },
      "source": [
        "predictions = model.predict(X_test) # Make predictions towards the test set\n",
        "np.argmax(predictions[0]), y_test[0] # If same, got it right"
      ],
      "execution_count": 0,
      "outputs": [
        {
          "output_type": "execute_result",
          "data": {
            "text/plain": [
              "(0, 0)"
            ]
          },
          "metadata": {
            "tags": []
          },
          "execution_count": 18
        }
      ]
    },
    {
      "cell_type": "code",
      "metadata": {
        "id": "lakw58DZ1HM7",
        "colab_type": "code",
        "outputId": "2a4c5b92-6481-484e-d35a-cd645c8ede07",
        "colab": {
          "base_uri": "https://localhost:8080/",
          "height": 35
        }
      },
      "source": [
        "model = load_model('handrecognition_model.h5')\n",
        "y_pred = model.predict_classes(X_test)\n",
        "import sklearn\n",
        "acc = sklearn.metrics.accuracy_score(np.array(y_pred), np.array(y_test))\n",
        "print(acc)"
      ],
      "execution_count": 0,
      "outputs": [
        {
          "output_type": "stream",
          "text": [
            "0.9443708609271523\n"
          ],
          "name": "stdout"
        }
      ]
    },
    {
      "cell_type": "markdown",
      "metadata": {
        "id": "akrEmS157uw6",
        "colab_type": "text"
      },
      "source": [
        "## Label mapping"
      ]
    },
    {
      "cell_type": "code",
      "metadata": {
        "id": "UE3jsH1O4gwt",
        "colab_type": "code",
        "colab": {}
      },
      "source": [
        "def cat_to_name():\n",
        "    with open('cat_to_name.json', 'r') as f:\n",
        "        cat_to_name = json.load(f)\n",
        "        return cat_to_name\n",
        "\n",
        "cat_to_name = cat_to_name()   "
      ],
      "execution_count": 0,
      "outputs": []
    },
    {
      "cell_type": "markdown",
      "metadata": {
        "id": "PFSMIRwL5Woj",
        "colab_type": "text"
      },
      "source": [
        "## Image Preprocessing"
      ]
    },
    {
      "cell_type": "code",
      "metadata": {
        "id": "0VREXqpG9b6K",
        "colab_type": "code",
        "colab": {}
      },
      "source": [
        "def process_image(image_path):\n",
        "  X = [] # Image data\n",
        "  img = cv2.imread(image_path) # Reads image and returns np.array\n",
        "  img = cv2.cvtColor(img, cv2.COLOR_BGR2GRAY) # Converts into the corret colorspace (GRAY)\n",
        "  img = cv2.resize(img, (320, 120)) # Reduce image size so training can be faster\n",
        "  X.append(img)\n",
        "  # Turn X into np.array to speed up train_test_split\n",
        "  X = np.array(X, dtype=\"uint8\")\n",
        "  print(\"Shape of X \", X.shape)\n",
        "  X = X.reshape(len(X), 120, 320, 1) # Needed to reshape so CNN knows it's different images\n",
        "  print(\"Shape of X after reshaping \", X.shape)\n",
        "  return X"
      ],
      "execution_count": 0,
      "outputs": []
    },
    {
      "cell_type": "markdown",
      "metadata": {
        "id": "ie9yJoSY5MHt",
        "colab_type": "text"
      },
      "source": [
        "## Class Prediction"
      ]
    },
    {
      "cell_type": "code",
      "metadata": {
        "id": "aKilUvke5kBs",
        "colab_type": "code",
        "colab": {}
      },
      "source": [
        "def predict(image_path, model, cat_to_name,topk=5):\n",
        "    ''' Predict the class (or classes) of an image using a trained deep learning model.\n",
        "    '''\n",
        "    X = process_image(image_path)\n",
        "    # Get the topk prob using model.predict_proba which return top probablilties \n",
        "    # for all calsses in descendent order\n",
        "    top_p = model.predict_proba(X[:1])[0]\n",
        "    top_p = [top_p[i] for i in np.argsort(top_p)[-topk:]] # Here we get the topk probas but in assedent order\n",
        "    top_p = top_p[::-1] # revers the order to get the bigest value to the smallest one in the list of top probs \n",
        "    # Get the topk classes \n",
        "    top_c = model.predict(X[:1]) \n",
        "    top_c = np.argsort(top_c)[:,-topk:][0]\n",
        "    top_c = top_c[::-1] # reverse elment to get the descenedent order \n",
        "\n",
        "    # Extract the classes names from classes indices\n",
        "    top_classes = [\n",
        "        cat_to_name[str(category)] for category in top_c\n",
        "        ]\n",
        "    return top_p, top_classes"
      ],
      "execution_count": 0,
      "outputs": []
    },
    {
      "cell_type": "markdown",
      "metadata": {
        "id": "Zgt_VxUK8Ayk",
        "colab_type": "text"
      },
      "source": [
        "## Sanity Checking"
      ]
    },
    {
      "cell_type": "code",
      "metadata": {
        "id": "tLE3QhPB8Clb",
        "colab_type": "code",
        "colab": {}
      },
      "source": [
        "def display_prediction(image_path,model,cat_to_name, topk=5):\n",
        "    # Open the image to show it in the first column of the plot \n",
        "    image = Image.open(image_path)   \n",
        "    #predict topk classes \n",
        "    top_probs, top_classes = predict(image_path, model, cat_to_name,topk)   \n",
        "    print(\"top_probs\", top_probs)\n",
        "    print(\"top_classes \", top_classes )\n",
        "    # Get the top class that have the max probat\n",
        "    top_p = top_probs[np.argmax(top_probs)] # the top class proba\n",
        "    top_c = top_classes[np.argmax(top_probs)] # top class label    \n",
        "\n",
        "    # Create the figure \n",
        "    fig = plt.figure(figsize=(20,5))\n",
        "    ax1 = fig.add_subplot(1, 2, 1)\n",
        "    ax2 = fig.add_subplot(1, 2, 2)    \n",
        "    # Plot the image in the first axe with it's category name\n",
        "    ax1.axis('off')\n",
        "    ax1.set_title(top_c)\n",
        "    ax1.imshow(image) \n",
        "    # Create the second plot \n",
        "    #Set the lables of y-awes of the second plot \n",
        "    labels = []\n",
        "    for classe in top_classes:\n",
        "        labels.append(classe)\n",
        "    y_pos = np.arange(topk)\n",
        "    \n",
        "    ax2.set_yticks(y_pos)\n",
        "    ax2.set_yticklabels(labels)\n",
        "    ax2.invert_yaxis()  # probabilities read top-to-bottom\n",
        "    ax2.barh(y_pos, top_probs, xerr=0, align='center')\n",
        "\n",
        "    plt.show() # show the plot"
      ],
      "execution_count": 0,
      "outputs": []
    },
    {
      "cell_type": "code",
      "metadata": {
        "id": "NVb5vhdz8UT7",
        "colab_type": "code",
        "outputId": "4eee2968-732a-47aa-e299-9d2769c90e37",
        "colab": {
          "base_uri": "https://localhost:8080/",
          "height": 405
        }
      },
      "source": [
        "ex_image = image_dir + \"/hand1_2_bot_seg_3_cropped.png\"\n",
        "display_prediction(ex_image,model,cat_to_name, topk=5)"
      ],
      "execution_count": 0,
      "outputs": [
        {
          "output_type": "stream",
          "text": [
            "Shape of X  (1, 120, 320)\n",
            "Shape of X after reshaping  (1, 120, 320, 1)\n",
            "top_probs [0.9999944, 5.174918e-06, 3.664176e-07, 8.967844e-08, 5.9762996e-08]\n",
            "top_classes  ['2', '8', 'K', 'U', 'V']\n"
          ],
          "name": "stdout"
        },
        {
          "output_type": "display_data",
          "data": {
            "image/png": "[encoded data removed]",
            "text/plain": [
              "<Figure size 1440x360 with 2 Axes>"
            ]
          },
          "metadata": {
            "tags": [],
            "needs_background": "light"
          }
        }
      ]
    },
    {
      "cell_type": "code",
      "metadata": {
        "id": "nCRCYbPkKXo4",
        "colab_type": "code",
        "outputId": "f72062fb-ca30-496f-8e25-15a3a8d251d3",
        "colab": {
          "base_uri": "https://localhost:8080/",
          "height": 35
        }
      },
      "source": [
        "arr = [5, 8, 2, 1, 0, 20 , 3]\n",
        "top_arr = [arr[i] for i in np.argsort(arr)[-3:]]\n",
        "print(\"top_arr\", top_arr[::-1])"
      ],
      "execution_count": 0,
      "outputs": [
        {
          "output_type": "stream",
          "text": [
            "top_arr [20, 8, 5]\n"
          ],
          "name": "stdout"
        }
      ]
    },
    {
      "cell_type": "markdown",
      "metadata": {
        "id": "V58LedojkpKN",
        "colab_type": "text"
      },
      "source": [
        "# Command Line Application "
      ]
    },
    {
      "cell_type": "code",
      "metadata": {
        "id": "psVDJmTcersQ",
        "colab_type": "code",
        "outputId": "e8c9759a-4a4b-4362-ac3a-5191d5c00e3f",
        "colab": {
          "base_uri": "https://localhost:8080/",
          "height": 139
        }
      },
      "source": [
        "!git clone https://github.com/DinaTaklit/HandGestureRecognition.git"
      ],
      "execution_count": 1,
      "outputs": [
        {
          "output_type": "stream",
          "text": [
            "Cloning into 'HandGestureRecognition'...\n",
            "remote: Enumerating objects: 123, done.\u001b[K\n",
            "remote: Counting objects: 100% (123/123), done.\u001b[K\n",
            "remote: Compressing objects: 100% (76/76), done.\u001b[K\n",
            "remote: Total 2653 (delta 66), reused 104 (delta 47), pack-reused 2530\u001b[K\n",
            "Receiving objects: 100% (2653/2653), 254.29 MiB | 37.72 MiB/s, done.\n",
            "Resolving deltas: 100% (70/70), done.\n"
          ],
          "name": "stdout"
        }
      ]
    },
    {
      "cell_type": "markdown",
      "metadata": {
        "id": "8K4hCptykxqQ",
        "colab_type": "text"
      },
      "source": [
        "## Train the Model"
      ]
    },
    {
      "cell_type": "code",
      "metadata": {
        "id": "Ml-Nil6cmeAt",
        "colab_type": "code",
        "outputId": "1b89b678-776f-4e08-bd9b-93154920d92a",
        "colab": {
          "base_uri": "https://localhost:8080/",
          "height": 1000
        }
      },
      "source": [
        "!python HandGestureRecognition/train.py HandGestureRecognition/handgesture_dataset/ --save_dir checkpoints --epochs 5"
      ],
      "execution_count": 2,
      "outputs": [
        {
          "output_type": "stream",
          "text": [
            "Using TensorFlow backend.\n",
            "2020-06-01 07:57:48.619378: I tensorflow/stream_executor/platform/default/dso_loader.cc:44] Successfully opened dynamic library libcudart.so.10.1\n",
            "\n",
            "############### Train ####################\n",
            "\n",
            "len(image_dir) 43\n",
            "len(image_dir) 2515\n",
            "Shape of X  (2515, 120, 320)\n",
            "Shape of Y  (2515,)\n",
            "Shape of X after reshaping  (2515, 120, 320, 1)\n",
            "2020-06-01 07:57:59.353683: I tensorflow/stream_executor/platform/default/dso_loader.cc:44] Successfully opened dynamic library libcuda.so.1\n",
            "2020-06-01 07:57:59.402133: I tensorflow/stream_executor/cuda/cuda_gpu_executor.cc:981] successful NUMA node read from SysFS had negative value (-1), but there must be at least one NUMA node, so returning NUMA node zero\n",
            "2020-06-01 07:57:59.402950: I tensorflow/core/common_runtime/gpu/gpu_device.cc:1561] Found device 0 with properties: \n",
            "pciBusID: 0000:00:04.0 name: Tesla K80 computeCapability: 3.7\n",
            "coreClock: 0.8235GHz coreCount: 13 deviceMemorySize: 11.17GiB deviceMemoryBandwidth: 223.96GiB/s\n",
            "2020-06-01 07:57:59.403010: I tensorflow/stream_executor/platform/default/dso_loader.cc:44] Successfully opened dynamic library libcudart.so.10.1\n",
            "2020-06-01 07:57:59.634112: I tensorflow/stream_executor/platform/default/dso_loader.cc:44] Successfully opened dynamic library libcublas.so.10\n",
            "2020-06-01 07:57:59.766329: I tensorflow/stream_executor/platform/default/dso_loader.cc:44] Successfully opened dynamic library libcufft.so.10\n",
            "2020-06-01 07:57:59.794459: I tensorflow/stream_executor/platform/default/dso_loader.cc:44] Successfully opened dynamic library libcurand.so.10\n",
            "2020-06-01 07:58:00.050831: I tensorflow/stream_executor/platform/default/dso_loader.cc:44] Successfully opened dynamic library libcusolver.so.10\n",
            "2020-06-01 07:58:00.093361: I tensorflow/stream_executor/platform/default/dso_loader.cc:44] Successfully opened dynamic library libcusparse.so.10\n",
            "2020-06-01 07:58:00.572468: I tensorflow/stream_executor/platform/default/dso_loader.cc:44] Successfully opened dynamic library libcudnn.so.7\n",
            "2020-06-01 07:58:00.572738: I tensorflow/stream_executor/cuda/cuda_gpu_executor.cc:981] successful NUMA node read from SysFS had negative value (-1), but there must be at least one NUMA node, so returning NUMA node zero\n",
            "2020-06-01 07:58:00.573626: I tensorflow/stream_executor/cuda/cuda_gpu_executor.cc:981] successful NUMA node read from SysFS had negative value (-1), but there must be at least one NUMA node, so returning NUMA node zero\n",
            "2020-06-01 07:58:00.574360: I tensorflow/core/common_runtime/gpu/gpu_device.cc:1703] Adding visible gpu devices: 0\n",
            "2020-06-01 07:58:00.602402: I tensorflow/core/platform/profile_utils/cpu_utils.cc:102] CPU Frequency: 2300000000 Hz\n",
            "2020-06-01 07:58:00.602657: I tensorflow/compiler/xla/service/service.cc:168] XLA service 0x27472c0 initialized for platform Host (this does not guarantee that XLA will be used). Devices:\n",
            "2020-06-01 07:58:00.602693: I tensorflow/compiler/xla/service/service.cc:176]   StreamExecutor device (0): Host, Default Version\n",
            "2020-06-01 07:58:00.690500: I tensorflow/stream_executor/cuda/cuda_gpu_executor.cc:981] successful NUMA node read from SysFS had negative value (-1), but there must be at least one NUMA node, so returning NUMA node zero\n",
            "2020-06-01 07:58:00.691345: I tensorflow/compiler/xla/service/service.cc:168] XLA service 0x2747100 initialized for platform CUDA (this does not guarantee that XLA will be used). Devices:\n",
            "2020-06-01 07:58:00.691382: I tensorflow/compiler/xla/service/service.cc:176]   StreamExecutor device (0): Tesla K80, Compute Capability 3.7\n",
            "2020-06-01 07:58:00.692636: I tensorflow/stream_executor/cuda/cuda_gpu_executor.cc:981] successful NUMA node read from SysFS had negative value (-1), but there must be at least one NUMA node, so returning NUMA node zero\n",
            "2020-06-01 07:58:00.693349: I tensorflow/core/common_runtime/gpu/gpu_device.cc:1561] Found device 0 with properties: \n",
            "pciBusID: 0000:00:04.0 name: Tesla K80 computeCapability: 3.7\n",
            "coreClock: 0.8235GHz coreCount: 13 deviceMemorySize: 11.17GiB deviceMemoryBandwidth: 223.96GiB/s\n",
            "2020-06-01 07:58:00.693443: I tensorflow/stream_executor/platform/default/dso_loader.cc:44] Successfully opened dynamic library libcudart.so.10.1\n",
            "2020-06-01 07:58:00.693517: I tensorflow/stream_executor/platform/default/dso_loader.cc:44] Successfully opened dynamic library libcublas.so.10\n",
            "2020-06-01 07:58:00.693564: I tensorflow/stream_executor/platform/default/dso_loader.cc:44] Successfully opened dynamic library libcufft.so.10\n",
            "2020-06-01 07:58:00.693610: I tensorflow/stream_executor/platform/default/dso_loader.cc:44] Successfully opened dynamic library libcurand.so.10\n",
            "2020-06-01 07:58:00.693654: I tensorflow/stream_executor/platform/default/dso_loader.cc:44] Successfully opened dynamic library libcusolver.so.10\n",
            "2020-06-01 07:58:00.693699: I tensorflow/stream_executor/platform/default/dso_loader.cc:44] Successfully opened dynamic library libcusparse.so.10\n",
            "2020-06-01 07:58:00.693747: I tensorflow/stream_executor/platform/default/dso_loader.cc:44] Successfully opened dynamic library libcudnn.so.7\n",
            "2020-06-01 07:58:00.693901: I tensorflow/stream_executor/cuda/cuda_gpu_executor.cc:981] successful NUMA node read from SysFS had negative value (-1), but there must be at least one NUMA node, so returning NUMA node zero\n",
            "2020-06-01 07:58:00.694708: I tensorflow/stream_executor/cuda/cuda_gpu_executor.cc:981] successful NUMA node read from SysFS had negative value (-1), but there must be at least one NUMA node, so returning NUMA node zero\n",
            "2020-06-01 07:58:00.695400: I tensorflow/core/common_runtime/gpu/gpu_device.cc:1703] Adding visible gpu devices: 0\n",
            "2020-06-01 07:58:00.699639: I tensorflow/stream_executor/platform/default/dso_loader.cc:44] Successfully opened dynamic library libcudart.so.10.1\n",
            "2020-06-01 07:58:06.299269: I tensorflow/core/common_runtime/gpu/gpu_device.cc:1102] Device interconnect StreamExecutor with strength 1 edge matrix:\n",
            "2020-06-01 07:58:06.299360: I tensorflow/core/common_runtime/gpu/gpu_device.cc:1108]      0 \n",
            "2020-06-01 07:58:06.299381: I tensorflow/core/common_runtime/gpu/gpu_device.cc:1121] 0:   N \n",
            "2020-06-01 07:58:06.304050: I tensorflow/stream_executor/cuda/cuda_gpu_executor.cc:981] successful NUMA node read from SysFS had negative value (-1), but there must be at least one NUMA node, so returning NUMA node zero\n",
            "2020-06-01 07:58:06.304939: I tensorflow/stream_executor/cuda/cuda_gpu_executor.cc:981] successful NUMA node read from SysFS had negative value (-1), but there must be at least one NUMA node, so returning NUMA node zero\n",
            "2020-06-01 07:58:06.305665: W tensorflow/core/common_runtime/gpu/gpu_bfc_allocator.cc:39] Overriding allow_growth setting because the TF_FORCE_GPU_ALLOW_GROWTH environment variable is set. Original config value was 0.\n",
            "2020-06-01 07:58:06.305734: I tensorflow/core/common_runtime/gpu/gpu_device.cc:1247] Created TensorFlow device (/job:localhost/replica:0/task:0/device:GPU:0 with 10634 MB memory) -> physical GPU (device: 0, name: Tesla K80, pci bus id: 0000:00:04.0, compute capability: 3.7)\n",
            "Train on 1760 samples, validate on 755 samples\n",
            "Epoch 1/5\n",
            "2020-06-01 07:58:07.558722: I tensorflow/stream_executor/platform/default/dso_loader.cc:44] Successfully opened dynamic library libcublas.so.10\n",
            "2020-06-01 07:58:08.946135: I tensorflow/stream_executor/platform/default/dso_loader.cc:44] Successfully opened dynamic library libcudnn.so.7\n",
            " - 12s - loss: 12.5081 - accuracy: 0.4375 - val_loss: 0.6563 - val_accuracy: 0.8093\n",
            "Epoch 2/5\n",
            " - 4s - loss: 0.3021 - accuracy: 0.9080 - val_loss: 0.3257 - val_accuracy: 0.8901\n",
            "Epoch 3/5\n",
            " - 4s - loss: 0.1086 - accuracy: 0.9710 - val_loss: 0.3018 - val_accuracy: 0.9166\n",
            "Epoch 4/5\n",
            " - 4s - loss: 0.0359 - accuracy: 0.9886 - val_loss: 0.1946 - val_accuracy: 0.9444\n",
            "Epoch 5/5\n",
            " - 4s - loss: 0.0199 - accuracy: 0.9955 - val_loss: 0.1644 - val_accuracy: 0.9536\n",
            "755/755 [==============================] - 1s 1ms/step\n",
            "Test accuracy: 95.36%\n",
            "save directories...\n",
            "\n",
            " ## Training Successfully Completed! ## \n",
            "\n"
          ],
          "name": "stdout"
        }
      ]
    },
    {
      "cell_type": "markdown",
      "metadata": {
        "id": "35YOtk0KqDeg",
        "colab_type": "text"
      },
      "source": [
        "## Predict an Input"
      ]
    },
    {
      "cell_type": "code",
      "metadata": {
        "id": "ssIXoRIKqHTL",
        "colab_type": "code",
        "colab": {
          "base_uri": "https://localhost:8080/",
          "height": 1000
        },
        "outputId": "8b907055-46a6-44b5-a62c-97351abdc230"
      },
      "source": [
        "!python HandGestureRecognition/predict.py  HandGestureRecognition/handgesture_dataset/hand1_2_bot_seg_3_cropped.png checkpoints --category_names HandGestureRecognition/cat_to_name.json --top_k 5"
      ],
      "execution_count": 3,
      "outputs": [
        {
          "output_type": "stream",
          "text": [
            "Using TensorFlow backend.\n",
            "2020-06-01 07:58:46.541299: I tensorflow/stream_executor/platform/default/dso_loader.cc:44] Successfully opened dynamic library libcudart.so.10.1\n",
            "\n",
            "############### Predict ####################\n",
            "\n",
            "2020-06-01 07:58:48.885379: I tensorflow/stream_executor/platform/default/dso_loader.cc:44] Successfully opened dynamic library libcuda.so.1\n",
            "2020-06-01 07:58:48.906737: I tensorflow/stream_executor/cuda/cuda_gpu_executor.cc:981] successful NUMA node read from SysFS had negative value (-1), but there must be at least one NUMA node, so returning NUMA node zero\n",
            "2020-06-01 07:58:48.907548: I tensorflow/core/common_runtime/gpu/gpu_device.cc:1561] Found device 0 with properties: \n",
            "pciBusID: 0000:00:04.0 name: Tesla K80 computeCapability: 3.7\n",
            "coreClock: 0.8235GHz coreCount: 13 deviceMemorySize: 11.17GiB deviceMemoryBandwidth: 223.96GiB/s\n",
            "2020-06-01 07:58:48.907602: I tensorflow/stream_executor/platform/default/dso_loader.cc:44] Successfully opened dynamic library libcudart.so.10.1\n",
            "2020-06-01 07:58:48.909776: I tensorflow/stream_executor/platform/default/dso_loader.cc:44] Successfully opened dynamic library libcublas.so.10\n",
            "2020-06-01 07:58:48.911650: I tensorflow/stream_executor/platform/default/dso_loader.cc:44] Successfully opened dynamic library libcufft.so.10\n",
            "2020-06-01 07:58:48.912002: I tensorflow/stream_executor/platform/default/dso_loader.cc:44] Successfully opened dynamic library libcurand.so.10\n",
            "2020-06-01 07:58:48.925488: I tensorflow/stream_executor/platform/default/dso_loader.cc:44] Successfully opened dynamic library libcusolver.so.10\n",
            "2020-06-01 07:58:48.935747: I tensorflow/stream_executor/platform/default/dso_loader.cc:44] Successfully opened dynamic library libcusparse.so.10\n",
            "2020-06-01 07:58:48.947155: I tensorflow/stream_executor/platform/default/dso_loader.cc:44] Successfully opened dynamic library libcudnn.so.7\n",
            "2020-06-01 07:58:48.947379: I tensorflow/stream_executor/cuda/cuda_gpu_executor.cc:981] successful NUMA node read from SysFS had negative value (-1), but there must be at least one NUMA node, so returning NUMA node zero\n",
            "2020-06-01 07:58:48.948252: I tensorflow/stream_executor/cuda/cuda_gpu_executor.cc:981] successful NUMA node read from SysFS had negative value (-1), but there must be at least one NUMA node, so returning NUMA node zero\n",
            "2020-06-01 07:58:48.948995: I tensorflow/core/common_runtime/gpu/gpu_device.cc:1703] Adding visible gpu devices: 0\n",
            "2020-06-01 07:58:48.954745: I tensorflow/core/platform/profile_utils/cpu_utils.cc:102] CPU Frequency: 2300000000 Hz\n",
            "2020-06-01 07:58:48.954977: I tensorflow/compiler/xla/service/service.cc:168] XLA service 0x23def40 initialized for platform Host (this does not guarantee that XLA will be used). Devices:\n",
            "2020-06-01 07:58:48.955016: I tensorflow/compiler/xla/service/service.cc:176]   StreamExecutor device (0): Host, Default Version\n",
            "2020-06-01 07:58:49.013631: I tensorflow/stream_executor/cuda/cuda_gpu_executor.cc:981] successful NUMA node read from SysFS had negative value (-1), but there must be at least one NUMA node, so returning NUMA node zero\n",
            "2020-06-01 07:58:49.014475: I tensorflow/compiler/xla/service/service.cc:168] XLA service 0x23df100 initialized for platform CUDA (this does not guarantee that XLA will be used). Devices:\n",
            "2020-06-01 07:58:49.014511: I tensorflow/compiler/xla/service/service.cc:176]   StreamExecutor device (0): Tesla K80, Compute Capability 3.7\n",
            "2020-06-01 07:58:49.014758: I tensorflow/stream_executor/cuda/cuda_gpu_executor.cc:981] successful NUMA node read from SysFS had negative value (-1), but there must be at least one NUMA node, so returning NUMA node zero\n",
            "2020-06-01 07:58:49.015492: I tensorflow/core/common_runtime/gpu/gpu_device.cc:1561] Found device 0 with properties: \n",
            "pciBusID: 0000:00:04.0 name: Tesla K80 computeCapability: 3.7\n",
            "coreClock: 0.8235GHz coreCount: 13 deviceMemorySize: 11.17GiB deviceMemoryBandwidth: 223.96GiB/s\n",
            "2020-06-01 07:58:49.015567: I tensorflow/stream_executor/platform/default/dso_loader.cc:44] Successfully opened dynamic library libcudart.so.10.1\n",
            "2020-06-01 07:58:49.015632: I tensorflow/stream_executor/platform/default/dso_loader.cc:44] Successfully opened dynamic library libcublas.so.10\n",
            "2020-06-01 07:58:49.015685: I tensorflow/stream_executor/platform/default/dso_loader.cc:44] Successfully opened dynamic library libcufft.so.10\n",
            "2020-06-01 07:58:49.015731: I tensorflow/stream_executor/platform/default/dso_loader.cc:44] Successfully opened dynamic library libcurand.so.10\n",
            "2020-06-01 07:58:49.015781: I tensorflow/stream_executor/platform/default/dso_loader.cc:44] Successfully opened dynamic library libcusolver.so.10\n",
            "2020-06-01 07:58:49.015837: I tensorflow/stream_executor/platform/default/dso_loader.cc:44] Successfully opened dynamic library libcusparse.so.10\n",
            "2020-06-01 07:58:49.015889: I tensorflow/stream_executor/platform/default/dso_loader.cc:44] Successfully opened dynamic library libcudnn.so.7\n",
            "2020-06-01 07:58:49.016030: I tensorflow/stream_executor/cuda/cuda_gpu_executor.cc:981] successful NUMA node read from SysFS had negative value (-1), but there must be at least one NUMA node, so returning NUMA node zero\n",
            "2020-06-01 07:58:49.016840: I tensorflow/stream_executor/cuda/cuda_gpu_executor.cc:981] successful NUMA node read from SysFS had negative value (-1), but there must be at least one NUMA node, so returning NUMA node zero\n",
            "2020-06-01 07:58:49.017533: I tensorflow/core/common_runtime/gpu/gpu_device.cc:1703] Adding visible gpu devices: 0\n",
            "2020-06-01 07:58:49.017598: I tensorflow/stream_executor/platform/default/dso_loader.cc:44] Successfully opened dynamic library libcudart.so.10.1\n",
            "2020-06-01 07:58:49.429723: I tensorflow/core/common_runtime/gpu/gpu_device.cc:1102] Device interconnect StreamExecutor with strength 1 edge matrix:\n",
            "2020-06-01 07:58:49.429788: I tensorflow/core/common_runtime/gpu/gpu_device.cc:1108]      0 \n",
            "2020-06-01 07:58:49.429807: I tensorflow/core/common_runtime/gpu/gpu_device.cc:1121] 0:   N \n",
            "2020-06-01 07:58:49.430071: I tensorflow/stream_executor/cuda/cuda_gpu_executor.cc:981] successful NUMA node read from SysFS had negative value (-1), but there must be at least one NUMA node, so returning NUMA node zero\n",
            "2020-06-01 07:58:49.430937: I tensorflow/stream_executor/cuda/cuda_gpu_executor.cc:981] successful NUMA node read from SysFS had negative value (-1), but there must be at least one NUMA node, so returning NUMA node zero\n",
            "2020-06-01 07:58:49.431699: W tensorflow/core/common_runtime/gpu/gpu_bfc_allocator.cc:39] Overriding allow_growth setting because the TF_FORCE_GPU_ALLOW_GROWTH environment variable is set. Original config value was 0.\n",
            "2020-06-01 07:58:49.431757: I tensorflow/core/common_runtime/gpu/gpu_device.cc:1247] Created TensorFlow device (/job:localhost/replica:0/task:0/device:GPU:0 with 10634 MB memory) -> physical GPU (device: 0, name: Tesla K80, pci bus id: 0000:00:04.0, compute capability: 3.7)\n",
            "Shape of X  (1, 120, 320)\n",
            "Shape of X after reshaping  (1, 120, 320, 1)\n",
            "2020-06-01 07:58:50.388926: I tensorflow/stream_executor/platform/default/dso_loader.cc:44] Successfully opened dynamic library libcublas.so.10\n",
            "2020-06-01 07:58:50.537136: I tensorflow/stream_executor/platform/default/dso_loader.cc:44] Successfully opened dynamic library libcudnn.so.7\n",
            "###\n",
            "The top 5 classes with their probas for the given input ###\n",
            "\n",
            "Rank=> 1 | Class=> 2   | Proba=> 1.0000\n",
            "Rank=> 2 | Class=> V   | Proba=> 0.0000\n",
            "Rank=> 3 | Class=> M   | Proba=> 0.0000\n",
            "Rank=> 4 | Class=> U   | Proba=> 0.0000\n",
            "Rank=> 5 | Class=> B   | Proba=> 0.0000\n",
            "\n",
            "The top class of the input is => 2 \n",
            "\n",
            "\n",
            " ## Prediction Successfully Completed! ## \n",
            "\n"
          ],
          "name": "stdout"
        }
      ]
    }
  ]
}
